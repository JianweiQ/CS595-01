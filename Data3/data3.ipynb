{
 "cells": [
  {
   "cell_type": "markdown",
   "metadata": {},
   "source": [
    "# Data 3\n",
    "\n",
    "Jianwei Qian A20346099"
   ]
  },
  {
   "cell_type": "markdown",
   "metadata": {},
   "source": [
    "## 1. Data set\n",
    "Statlog (German Credit Data) Data Set. <https://archive.ics.uci.edu/ml/datasets/statlog+(german+credit+data)>\n",
    "\n",
    "This dataset classifies people as with good or bad credit based on a set of attributes. The features include Balance of checking/saving account, Duration in month, Credit history, Credit amount, Marital status and sex, Property, Age, Housing, Job, etc. Notice ordered categorical attributes are coded as integer and unordered categorical attributes are split into multiple binary attributes.\n",
    "\n",
    "20 features, 1000 instances\n",
    "\n",
    "**Categorical features:** 13 in total\n",
    "\n",
    "Chckg_acct_status, credit_hist, purpose, saving_acct_status, employ_hist, sex&marital, other_debtors, property, installment_plans, housing, job, tel_provided, foreign_worker\n",
    "\n",
    "**Continuous features:** 7 in total\n",
    "\n",
    "Duration_in_month, credit_amount, installment_rate, residence_since, age, #existing_credits, #people_liable\n",
    "\n",
    "To see detailed explanations of them, please refer to <https://archive.ics.uci.edu/ml/datasets/statlog+(german+credit+data)>\n",
    "\n",
    "## 2. Load data"
   ]
  },
  {
   "cell_type": "code",
   "execution_count": 189,
   "metadata": {
    "collapsed": false
   },
   "outputs": [
    {
     "name": "stdout",
     "output_type": "stream",
     "text": [
      "Data shape:\n",
      "20 features, 1000 instances\n",
      "\n",
      "Head 5 lines of X:\n",
      "[[   1    6    4    3 1169    5    5    4    3    1    4    1   67    3\n",
      "     2    2    3    1    2    1]\n",
      " [   2   48    2    3 5951    1    3    2    2    1    2    1   22    3\n",
      "     2    1    3    1    1    1]\n",
      " [   4   12    4    6 2096    1    4    2    3    1    3    1   49    3\n",
      "     2    1    2    2    1    1]\n",
      " [   1   42    2    2 7882    1    4    2    3    3    4    2   45    3\n",
      "     3    1    3    2    1    1]\n",
      " [   1   24    3    0 4870    1    3    3    3    1    4    4   53    3\n",
      "     3    2    3    2    1    1]]\n",
      "\n",
      "Head 5 lines of y (1 = Good credit, -1 = Bad credit):\n",
      "[ 1. -1.  1.  1. -1.]\n"
     ]
    }
   ],
   "source": [
    "# Load data\n",
    "import csv\n",
    "import numpy as np\n",
    "reader=csv.reader(open(\"german-numeric.csv\",\"rt\"),delimiter=',')\n",
    "data=list(reader)\n",
    "Xy=np.array(data).astype('int')\n",
    "X=Xy[:,0:20]\n",
    "y=Xy[:,20]\n",
    "print('Data shape:\\n%d features, %d instances' % (len(X[0]),len(X)))\n",
    "print('\\nHead 5 lines of X:')\n",
    "print(X[:5])\n",
    "y=-2*(y-1.5) # the y values are 1's and 2's, so we need to transform them to 1's and (-1)'s\n",
    "print('\\nHead 5 lines of y (1 = Good credit, -1 = Bad credit):')\n",
    "print(y[:5])"
   ]
  },
  {
   "cell_type": "markdown",
   "metadata": {},
   "source": [
    "## 3. Feature binarization\n",
    "Categorical features are binarized using one-hot encoding."
   ]
  },
  {
   "cell_type": "code",
   "execution_count": 190,
   "metadata": {
    "collapsed": false
   },
   "outputs": [
    {
     "name": "stdout",
     "output_type": "stream",
     "text": [
      "\n",
      "Head 5 lines of new X:\n",
      "[[   1    0    0    0    0    0    0    0    1    0    0    0    1    0\n",
      "     0    0    0    0    0    0    0    0    0    1    0    0    0    0\n",
      "     1    0    0    1    0    1    0    0    1    0    0    0    0    0\n",
      "     1    0    1    0    0    0    1    0    0    1    1    0    6 1169\n",
      "     4    4   67    2    1]\n",
      " [   0    1    0    0    0    0    1    0    0    0    0    0    1    0\n",
      "     0    0    0    0    0    1    0    0    0    0    0    0    1    0\n",
      "     0    0    1    0    0    1    0    0    1    0    0    0    0    0\n",
      "     1    0    1    0    0    0    1    0    1    0    1    0   48 5951\n",
      "     2    2   22    1    1]\n",
      " [   0    0    0    1    0    0    0    0    1    0    0    0    0    0\n",
      "     0    1    0    0    0    1    0    0    0    0    0    0    0    1\n",
      "     0    0    0    1    0    1    0    0    1    0    0    0    0    0\n",
      "     1    0    1    0    0    1    0    0    1    0    1    0   12 2096\n",
      "     2    3   49    1    2]\n",
      " [   1    0    0    0    0    0    1    0    0    0    0    1    0    0\n",
      "     0    0    0    0    0    1    0    0    0    0    0    0    0    1\n",
      "     0    0    0    1    0    0    0    1    0    1    0    0    0    0\n",
      "     1    0    0    1    0    0    1    0    1    0    1    0   42 7882\n",
      "     2    4   45    1    2]\n",
      " [   1    0    0    0    0    0    0    1    0    1    0    0    0    0\n",
      "     0    0    0    0    0    1    0    0    0    0    0    0    1    0\n",
      "     0    0    0    1    0    1    0    0    0    0    0    1    0    0\n",
      "     1    0    0    1    0    0    1    0    1    0    1    0   24 4870\n",
      "     3    4   53    2    2]]\n"
     ]
    }
   ],
   "source": [
    "from sklearn.preprocessing import OneHotEncoder\n",
    "enc=OneHotEncoder(categorical_features=[0,2,3,5,6,8,9,11,13,14,16,18,19])\n",
    "X_new=enc.fit_transform(X).toarray().astype(int)\n",
    "print('\\nHead 5 lines of new X:')\n",
    "print(X_new[:5])"
   ]
  },
  {
   "cell_type": "code",
   "execution_count": 191,
   "metadata": {
    "collapsed": false
   },
   "outputs": [
    {
     "name": "stdout",
     "output_type": "stream",
     "text": [
      "61 binary features in total\n",
      "The shape of X_new is (1000, 61)\n"
     ]
    }
   ],
   "source": [
    "feature_names=[\n",
    "    'Chckg_acct_status:<0DM','Chckg_acct_status:<200DM','Chckg_acct_status:>200DM','Chckg_acct_status:no_acct',\n",
    "    'credit_hist:0','credit_hist:1','credit_hist:2','credit_hist:3','credit_hist:4',\n",
    "    'purpose:new_car','purpose:used_car','purpose:furniture','purpose:radio','purpose:appliance','purpose:repairs',\n",
    "    'purpose:education','purpose:retraining','purpose:business','purpose:other',\n",
    "    'saving_acct_status:<100DM','saving_acct_status:<500DM','saving_acct_status:<1000DM','saving_acct_status:>1000','saving_acct_status:no_acct',\n",
    "    'employ_hist:unempl','employ_hist:1year','employ_hist:4years','employ_hist:7years','employ_hist:>7years',\n",
    "    'sex&marital:M&divorced','sex&marital:F&divorced/married','sex&marital:M&single','sex&marital:M&married', #'sex&marital:F&single' doesn't exist\n",
    "    'other_debtors:none','other_debtors:co-applicant','other_debtors:guarantor',\n",
    "    'property:real_estate','property:life_insurance','property:car','property:none',\n",
    "    'installment_plans:bank','installment_plans:stores','installment_plans:none',\n",
    "    'housing:rent','housing:own','housing:free','job:unempl','job:unskilled','job:skilled','job:highly_qualified',\n",
    "    'tel_provided:none','tel_provided:yes','foreign_worker:yes','foreign_worker:no',\n",
    "    'Duration_in_month','credit_amount','installment_rate','residence_since','age','#existing_credits','#people_liable'\n",
    "]\n",
    "target_names=[\"Bad credit(-1)\",\"Good credit(1)\"]\n",
    "print('%d binary features in total' % len(feature_names))\n",
    "print('The shape of X_new is', X_new.shape)"
   ]
  },
  {
   "cell_type": "markdown",
   "metadata": {},
   "source": [
    "## 4. Train-test split"
   ]
  },
  {
   "cell_type": "code",
   "execution_count": 192,
   "metadata": {
    "collapsed": false
   },
   "outputs": [],
   "source": [
    "from sklearn.model_selection import train_test_split\n",
    "import random\n",
    "random.seed(1)\n",
    "X_train, X_test, y_train, y_test = train_test_split(X_new, y, test_size=0.333,random_state=10)\n",
    "#X_train[:4]"
   ]
  },
  {
   "cell_type": "markdown",
   "metadata": {},
   "source": [
    "## 5. Important features"
   ]
  },
  {
   "cell_type": "markdown",
   "metadata": {},
   "source": [
    "### L2-regularized logistic regression"
   ]
  },
  {
   "cell_type": "code",
   "execution_count": 193,
   "metadata": {
    "collapsed": false
   },
   "outputs": [
    {
     "name": "stdout",
     "output_type": "stream",
     "text": [
      "Top 10 features and their weights\n"
     ]
    },
    {
     "data": {
      "text/plain": [
       "[('Chckg_acct_status:no_acct', 1.1941638355336786),\n",
       " ('credit_hist:4', 0.87434690488821143),\n",
       " ('other_debtors:guarantor', 0.80687772739324437),\n",
       " ('purpose:used_car', 0.70873777116510461),\n",
       " ('installment_plans:none', 0.63580783282285691),\n",
       " ('Chckg_acct_status:<0DM', -0.60637929028818427),\n",
       " ('sex&marital:M&single', 0.60364424459618593),\n",
       " ('foreign_worker:no', 0.58352864832813622),\n",
       " ('employ_hist:7years', 0.57105694985834676),\n",
       " ('housing:free', 0.56047827400535388)]"
      ]
     },
     "execution_count": 193,
     "metadata": {},
     "output_type": "execute_result"
    }
   ],
   "source": [
    "from sklearn.linear_model import LogisticRegression\n",
    "clf=LogisticRegression(penalty='l2') #,random_state=1\n",
    "clf.fit(X_train,y_train)\n",
    "#predictions=clf.predict(X_test)\n",
    "feat_coef=[(feature_names[i],clf.coef_[0][i]) for i in range(len(feature_names))]\n",
    "feat_coef=sorted(feat_coef,key=lambda x:abs(x[1]),reverse=True )\n",
    "print(\"Top 10 features and their weights\")\n",
    "feat_coef[:10]"
   ]
  },
  {
   "cell_type": "markdown",
   "metadata": {},
   "source": [
    "### L1-regularized logistic regression"
   ]
  },
  {
   "cell_type": "code",
   "execution_count": 194,
   "metadata": {
    "collapsed": false
   },
   "outputs": [
    {
     "name": "stdout",
     "output_type": "stream",
     "text": [
      "Top 10 features and their weights\n"
     ]
    },
    {
     "data": {
      "text/plain": [
       "[('Chckg_acct_status:no_acct', 1.3636402341414944),\n",
       " ('other_debtors:guarantor', 1.0363969905660955),\n",
       " ('credit_hist:4', 1.0141016195310697),\n",
       " ('installment_plans:none', 0.69983171010696743),\n",
       " ('purpose:used_car', 0.69804328381364056),\n",
       " ('housing:free', 0.59058534495430637),\n",
       " ('purpose:new_car', -0.51980849800004503),\n",
       " ('saving_acct_status:<100DM', -0.51072425756294793),\n",
       " ('saving_acct_status:>1000', 0.50444090341338677),\n",
       " ('Chckg_acct_status:<0DM', -0.5007363338087496)]"
      ]
     },
     "execution_count": 194,
     "metadata": {},
     "output_type": "execute_result"
    }
   ],
   "source": [
    "from sklearn.linear_model import LogisticRegression\n",
    "clf=LogisticRegression(penalty='l1')\n",
    "clf.fit(X_train,y_train)\n",
    "#predictions=clf.predict(X_test)\n",
    "feat_coef=[(feature_names[i],clf.coef_[0][i]) for i in range(len(feature_names))]\n",
    "feat_coef=sorted(feat_coef,key=lambda x:abs(x[1]),reverse=True )\n",
    "print(\"Top 10 features and their weights\")\n",
    "feat_coef[:10]"
   ]
  },
  {
   "cell_type": "markdown",
   "metadata": {},
   "source": [
    "### Decision tree"
   ]
  },
  {
   "cell_type": "code",
   "execution_count": 195,
   "metadata": {
    "collapsed": false
   },
   "outputs": [
    {
     "data": {
      "image/svg+xml": [
       "<?xml version=\"1.0\" encoding=\"UTF-8\" standalone=\"no\"?>\n",
       "<!DOCTYPE svg PUBLIC \"-//W3C//DTD SVG 1.1//EN\"\n",
       " \"http://www.w3.org/Graphics/SVG/1.1/DTD/svg11.dtd\">\n",
       "<!-- Generated by graphviz version 2.38.0 (20140413.2041)\n",
       " -->\n",
       "<!-- Title: Tree Pages: 1 -->\n",
       "<svg width=\"1201pt\" height=\"528pt\"\n",
       " viewBox=\"0.00 0.00 1201.00 528.00\" xmlns=\"http://www.w3.org/2000/svg\" xmlns:xlink=\"http://www.w3.org/1999/xlink\">\n",
       "<g id=\"graph0\" class=\"graph\" transform=\"scale(1 1) rotate(0) translate(4 524)\">\n",
       "<title>Tree</title>\n",
       "<polygon fill=\"white\" stroke=\"none\" points=\"-4,4 -4,-524 1197,-524 1197,4 -4,4\"/>\n",
       "<!-- 0 -->\n",
       "<g id=\"node1\" class=\"node\"><title>0</title>\n",
       "<path fill=\"#399de5\" fill-opacity=\"0.588235\" stroke=\"black\" d=\"M826.966,-520C826.966,-520 620.368,-520 620.368,-520 614.368,-520 608.368,-514 608.368,-508 608.368,-508 608.368,-454 608.368,-454 608.368,-448 614.368,-442 620.368,-442 620.368,-442 826.966,-442 826.966,-442 832.966,-442 838.966,-448 838.966,-454 838.966,-454 838.966,-508 838.966,-508 838.966,-514 832.966,-520 826.966,-520\"/>\n",
       "<text text-anchor=\"middle\" x=\"723.667\" y=\"-504.8\" font-family=\"Helvetica,sans-Serif\" font-size=\"14.00\">Chckg_acct_status:no_acct &lt;= 0.5</text>\n",
       "<text text-anchor=\"middle\" x=\"723.667\" y=\"-490.8\" font-family=\"Helvetica,sans-Serif\" font-size=\"14.00\">gini = 0.414</text>\n",
       "<text text-anchor=\"middle\" x=\"723.667\" y=\"-476.8\" font-family=\"Helvetica,sans-Serif\" font-size=\"14.00\">samples = 667</text>\n",
       "<text text-anchor=\"middle\" x=\"723.667\" y=\"-462.8\" font-family=\"Helvetica,sans-Serif\" font-size=\"14.00\">value = [195, 472]</text>\n",
       "<text text-anchor=\"middle\" x=\"723.667\" y=\"-448.8\" font-family=\"Helvetica,sans-Serif\" font-size=\"14.00\">class = Good credit(1)</text>\n",
       "</g>\n",
       "<!-- 1 -->\n",
       "<g id=\"node2\" class=\"node\"><title>1</title>\n",
       "<path fill=\"#399de5\" fill-opacity=\"0.282353\" stroke=\"black\" d=\"M673.342,-406C673.342,-406 511.992,-406 511.992,-406 505.992,-406 499.992,-400 499.992,-394 499.992,-394 499.992,-340 499.992,-340 499.992,-334 505.992,-328 511.992,-328 511.992,-328 673.342,-328 673.342,-328 679.342,-328 685.342,-334 685.342,-340 685.342,-340 685.342,-394 685.342,-394 685.342,-400 679.342,-406 673.342,-406\"/>\n",
       "<text text-anchor=\"middle\" x=\"592.667\" y=\"-390.8\" font-family=\"Helvetica,sans-Serif\" font-size=\"14.00\">Duration_in_month &lt;= 22.5</text>\n",
       "<text text-anchor=\"middle\" x=\"592.667\" y=\"-376.8\" font-family=\"Helvetica,sans-Serif\" font-size=\"14.00\">gini = 0.487</text>\n",
       "<text text-anchor=\"middle\" x=\"592.667\" y=\"-362.8\" font-family=\"Helvetica,sans-Serif\" font-size=\"14.00\">samples = 404</text>\n",
       "<text text-anchor=\"middle\" x=\"592.667\" y=\"-348.8\" font-family=\"Helvetica,sans-Serif\" font-size=\"14.00\">value = [169, 235]</text>\n",
       "<text text-anchor=\"middle\" x=\"592.667\" y=\"-334.8\" font-family=\"Helvetica,sans-Serif\" font-size=\"14.00\">class = Good credit(1)</text>\n",
       "</g>\n",
       "<!-- 0&#45;&gt;1 -->\n",
       "<g id=\"edge1\" class=\"edge\"><title>0&#45;&gt;1</title>\n",
       "<path fill=\"none\" stroke=\"black\" d=\"M678.951,-441.769C667.99,-432.398 656.163,-422.287 644.885,-412.644\"/>\n",
       "<polygon fill=\"black\" stroke=\"black\" points=\"647.057,-409.897 637.182,-406.058 642.508,-415.217 647.057,-409.897\"/>\n",
       "<text text-anchor=\"middle\" x=\"639.131\" y=\"-426.782\" font-family=\"Helvetica,sans-Serif\" font-size=\"14.00\">True</text>\n",
       "</g>\n",
       "<!-- 12 -->\n",
       "<g id=\"node13\" class=\"node\"><title>12</title>\n",
       "<path fill=\"#399de5\" fill-opacity=\"0.890196\" stroke=\"black\" d=\"M944.966,-406C944.966,-406 766.368,-406 766.368,-406 760.368,-406 754.368,-400 754.368,-394 754.368,-394 754.368,-340 754.368,-340 754.368,-334 760.368,-328 766.368,-328 766.368,-328 944.966,-328 944.966,-328 950.966,-328 956.966,-334 956.966,-340 956.966,-340 956.966,-394 956.966,-394 956.966,-400 950.966,-406 944.966,-406\"/>\n",
       "<text text-anchor=\"middle\" x=\"855.667\" y=\"-390.8\" font-family=\"Helvetica,sans-Serif\" font-size=\"14.00\">installment_plans:none &lt;= 0.5</text>\n",
       "<text text-anchor=\"middle\" x=\"855.667\" y=\"-376.8\" font-family=\"Helvetica,sans-Serif\" font-size=\"14.00\">gini = 0.178</text>\n",
       "<text text-anchor=\"middle\" x=\"855.667\" y=\"-362.8\" font-family=\"Helvetica,sans-Serif\" font-size=\"14.00\">samples = 263</text>\n",
       "<text text-anchor=\"middle\" x=\"855.667\" y=\"-348.8\" font-family=\"Helvetica,sans-Serif\" font-size=\"14.00\">value = [26, 237]</text>\n",
       "<text text-anchor=\"middle\" x=\"855.667\" y=\"-334.8\" font-family=\"Helvetica,sans-Serif\" font-size=\"14.00\">class = Good credit(1)</text>\n",
       "</g>\n",
       "<!-- 0&#45;&gt;12 -->\n",
       "<g id=\"edge12\" class=\"edge\"><title>0&#45;&gt;12</title>\n",
       "<path fill=\"none\" stroke=\"black\" d=\"M768.725,-441.769C779.769,-432.398 791.686,-422.287 803.05,-412.644\"/>\n",
       "<polygon fill=\"black\" stroke=\"black\" points=\"805.452,-415.197 810.812,-406.058 800.923,-409.86 805.452,-415.197\"/>\n",
       "<text text-anchor=\"middle\" x=\"808.77\" y=\"-426.775\" font-family=\"Helvetica,sans-Serif\" font-size=\"14.00\">False</text>\n",
       "</g>\n",
       "<!-- 2 -->\n",
       "<g id=\"node3\" class=\"node\"><title>2</title>\n",
       "<path fill=\"#399de5\" fill-opacity=\"0.521569\" stroke=\"black\" d=\"M403.335,-292C403.335,-292 255.999,-292 255.999,-292 249.999,-292 243.999,-286 243.999,-280 243.999,-280 243.999,-226 243.999,-226 243.999,-220 249.999,-214 255.999,-214 255.999,-214 403.335,-214 403.335,-214 409.335,-214 415.335,-220 415.335,-226 415.335,-226 415.335,-280 415.335,-280 415.335,-286 409.335,-292 403.335,-292\"/>\n",
       "<text text-anchor=\"middle\" x=\"329.667\" y=\"-276.8\" font-family=\"Helvetica,sans-Serif\" font-size=\"14.00\">credit_amount &lt;= 7491.5</text>\n",
       "<text text-anchor=\"middle\" x=\"329.667\" y=\"-262.8\" font-family=\"Helvetica,sans-Serif\" font-size=\"14.00\">gini = 0.437</text>\n",
       "<text text-anchor=\"middle\" x=\"329.667\" y=\"-248.8\" font-family=\"Helvetica,sans-Serif\" font-size=\"14.00\">samples = 229</text>\n",
       "<text text-anchor=\"middle\" x=\"329.667\" y=\"-234.8\" font-family=\"Helvetica,sans-Serif\" font-size=\"14.00\">value = [74, 155]</text>\n",
       "<text text-anchor=\"middle\" x=\"329.667\" y=\"-220.8\" font-family=\"Helvetica,sans-Serif\" font-size=\"14.00\">class = Good credit(1)</text>\n",
       "</g>\n",
       "<!-- 1&#45;&gt;2 -->\n",
       "<g id=\"edge2\" class=\"edge\"><title>1&#45;&gt;2</title>\n",
       "<path fill=\"none\" stroke=\"black\" d=\"M503.26,-327.926C478.061,-317.194 450.557,-305.482 425.023,-294.608\"/>\n",
       "<polygon fill=\"black\" stroke=\"black\" points=\"426.285,-291.341 415.713,-290.643 423.542,-297.782 426.285,-291.341\"/>\n",
       "</g>\n",
       "<!-- 7 -->\n",
       "<g id=\"node8\" class=\"node\"><title>7</title>\n",
       "<path fill=\"#e58139\" fill-opacity=\"0.156863\" stroke=\"black\" d=\"M696.252,-292C696.252,-292 489.082,-292 489.082,-292 483.082,-292 477.082,-286 477.082,-280 477.082,-280 477.082,-226 477.082,-226 477.082,-220 483.082,-214 489.082,-214 489.082,-214 696.252,-214 696.252,-214 702.252,-214 708.252,-220 708.252,-226 708.252,-226 708.252,-280 708.252,-280 708.252,-286 702.252,-292 696.252,-292\"/>\n",
       "<text text-anchor=\"middle\" x=\"592.667\" y=\"-276.8\" font-family=\"Helvetica,sans-Serif\" font-size=\"14.00\">saving_acct_status:no_acct &lt;= 0.5</text>\n",
       "<text text-anchor=\"middle\" x=\"592.667\" y=\"-262.8\" font-family=\"Helvetica,sans-Serif\" font-size=\"14.00\">gini = 0.496</text>\n",
       "<text text-anchor=\"middle\" x=\"592.667\" y=\"-248.8\" font-family=\"Helvetica,sans-Serif\" font-size=\"14.00\">samples = 175</text>\n",
       "<text text-anchor=\"middle\" x=\"592.667\" y=\"-234.8\" font-family=\"Helvetica,sans-Serif\" font-size=\"14.00\">value = [95, 80]</text>\n",
       "<text text-anchor=\"middle\" x=\"592.667\" y=\"-220.8\" font-family=\"Helvetica,sans-Serif\" font-size=\"14.00\">class = Bad credit(&#45;1)</text>\n",
       "</g>\n",
       "<!-- 1&#45;&gt;7 -->\n",
       "<g id=\"edge7\" class=\"edge\"><title>1&#45;&gt;7</title>\n",
       "<path fill=\"none\" stroke=\"black\" d=\"M592.667,-327.769C592.667,-319.57 592.667,-310.803 592.667,-302.28\"/>\n",
       "<polygon fill=\"black\" stroke=\"black\" points=\"596.167,-302.058 592.667,-292.058 589.167,-302.059 596.167,-302.058\"/>\n",
       "</g>\n",
       "<!-- 3 -->\n",
       "<g id=\"node4\" class=\"node\"><title>3</title>\n",
       "<path fill=\"#399de5\" fill-opacity=\"0.552941\" stroke=\"black\" d=\"M225.501,-178C225.501,-178 95.8326,-178 95.8326,-178 89.8326,-178 83.8326,-172 83.8326,-166 83.8326,-166 83.8326,-112 83.8326,-112 83.8326,-106 89.8326,-100 95.8326,-100 95.8326,-100 225.501,-100 225.501,-100 231.501,-100 237.501,-106 237.501,-112 237.501,-112 237.501,-166 237.501,-166 237.501,-172 231.501,-178 225.501,-178\"/>\n",
       "<text text-anchor=\"middle\" x=\"160.667\" y=\"-162.8\" font-family=\"Helvetica,sans-Serif\" font-size=\"14.00\">credit_hist:1 &lt;= 0.5</text>\n",
       "<text text-anchor=\"middle\" x=\"160.667\" y=\"-148.8\" font-family=\"Helvetica,sans-Serif\" font-size=\"14.00\">gini = 0.426</text>\n",
       "<text text-anchor=\"middle\" x=\"160.667\" y=\"-134.8\" font-family=\"Helvetica,sans-Serif\" font-size=\"14.00\">samples = 224</text>\n",
       "<text text-anchor=\"middle\" x=\"160.667\" y=\"-120.8\" font-family=\"Helvetica,sans-Serif\" font-size=\"14.00\">value = [69, 155]</text>\n",
       "<text text-anchor=\"middle\" x=\"160.667\" y=\"-106.8\" font-family=\"Helvetica,sans-Serif\" font-size=\"14.00\">class = Good credit(1)</text>\n",
       "</g>\n",
       "<!-- 2&#45;&gt;3 -->\n",
       "<g id=\"edge3\" class=\"edge\"><title>2&#45;&gt;3</title>\n",
       "<path fill=\"none\" stroke=\"black\" d=\"M271.979,-213.769C257.432,-204.128 241.701,-193.703 226.775,-183.811\"/>\n",
       "<polygon fill=\"black\" stroke=\"black\" points=\"228.364,-180.665 218.095,-178.058 224.497,-186.5 228.364,-180.665\"/>\n",
       "</g>\n",
       "<!-- 6 -->\n",
       "<g id=\"node7\" class=\"node\"><title>6</title>\n",
       "<path fill=\"#e58139\" stroke=\"black\" d=\"M391.826,-171C391.826,-171 267.508,-171 267.508,-171 261.508,-171 255.508,-165 255.508,-159 255.508,-159 255.508,-119 255.508,-119 255.508,-113 261.508,-107 267.508,-107 267.508,-107 391.826,-107 391.826,-107 397.826,-107 403.826,-113 403.826,-119 403.826,-119 403.826,-159 403.826,-159 403.826,-165 397.826,-171 391.826,-171\"/>\n",
       "<text text-anchor=\"middle\" x=\"329.667\" y=\"-155.8\" font-family=\"Helvetica,sans-Serif\" font-size=\"14.00\">gini = 0.0</text>\n",
       "<text text-anchor=\"middle\" x=\"329.667\" y=\"-141.8\" font-family=\"Helvetica,sans-Serif\" font-size=\"14.00\">samples = 5</text>\n",
       "<text text-anchor=\"middle\" x=\"329.667\" y=\"-127.8\" font-family=\"Helvetica,sans-Serif\" font-size=\"14.00\">value = [5, 0]</text>\n",
       "<text text-anchor=\"middle\" x=\"329.667\" y=\"-113.8\" font-family=\"Helvetica,sans-Serif\" font-size=\"14.00\">class = Bad credit(&#45;1)</text>\n",
       "</g>\n",
       "<!-- 2&#45;&gt;6 -->\n",
       "<g id=\"edge6\" class=\"edge\"><title>2&#45;&gt;6</title>\n",
       "<path fill=\"none\" stroke=\"black\" d=\"M329.667,-213.769C329.667,-203.313 329.667,-191.935 329.667,-181.315\"/>\n",
       "<polygon fill=\"black\" stroke=\"black\" points=\"333.167,-181.01 329.667,-171.01 326.167,-181.01 333.167,-181.01\"/>\n",
       "</g>\n",
       "<!-- 4 -->\n",
       "<g id=\"node5\" class=\"node\"><title>4</title>\n",
       "<path fill=\"#399de5\" fill-opacity=\"0.603922\" stroke=\"black\" d=\"M141.501,-64C141.501,-64 11.8326,-64 11.8326,-64 5.83264,-64 -0.167357,-58 -0.167357,-52 -0.167357,-52 -0.167357,-12 -0.167357,-12 -0.167357,-6 5.83264,-0 11.8326,-0 11.8326,-0 141.501,-0 141.501,-0 147.501,-0 153.501,-6 153.501,-12 153.501,-12 153.501,-52 153.501,-52 153.501,-58 147.501,-64 141.501,-64\"/>\n",
       "<text text-anchor=\"middle\" x=\"76.667\" y=\"-48.8\" font-family=\"Helvetica,sans-Serif\" font-size=\"14.00\">gini = 0.406</text>\n",
       "<text text-anchor=\"middle\" x=\"76.667\" y=\"-34.8\" font-family=\"Helvetica,sans-Serif\" font-size=\"14.00\">samples = 212</text>\n",
       "<text text-anchor=\"middle\" x=\"76.667\" y=\"-20.8\" font-family=\"Helvetica,sans-Serif\" font-size=\"14.00\">value = [60, 152]</text>\n",
       "<text text-anchor=\"middle\" x=\"76.667\" y=\"-6.8\" font-family=\"Helvetica,sans-Serif\" font-size=\"14.00\">class = Good credit(1)</text>\n",
       "</g>\n",
       "<!-- 3&#45;&gt;4 -->\n",
       "<g id=\"edge4\" class=\"edge\"><title>3&#45;&gt;4</title>\n",
       "<path fill=\"none\" stroke=\"black\" d=\"M130.103,-99.7956C122.847,-90.7252 115.098,-81.0385 107.816,-71.9359\"/>\n",
       "<polygon fill=\"black\" stroke=\"black\" points=\"110.541,-69.7394 101.561,-64.1172 105.075,-74.1123 110.541,-69.7394\"/>\n",
       "</g>\n",
       "<!-- 5 -->\n",
       "<g id=\"node6\" class=\"node\"><title>5</title>\n",
       "<path fill=\"#e58139\" fill-opacity=\"0.666667\" stroke=\"black\" d=\"M307.826,-64C307.826,-64 183.508,-64 183.508,-64 177.508,-64 171.508,-58 171.508,-52 171.508,-52 171.508,-12 171.508,-12 171.508,-6 177.508,-0 183.508,-0 183.508,-0 307.826,-0 307.826,-0 313.826,-0 319.826,-6 319.826,-12 319.826,-12 319.826,-52 319.826,-52 319.826,-58 313.826,-64 307.826,-64\"/>\n",
       "<text text-anchor=\"middle\" x=\"245.667\" y=\"-48.8\" font-family=\"Helvetica,sans-Serif\" font-size=\"14.00\">gini = 0.375</text>\n",
       "<text text-anchor=\"middle\" x=\"245.667\" y=\"-34.8\" font-family=\"Helvetica,sans-Serif\" font-size=\"14.00\">samples = 12</text>\n",
       "<text text-anchor=\"middle\" x=\"245.667\" y=\"-20.8\" font-family=\"Helvetica,sans-Serif\" font-size=\"14.00\">value = [9, 3]</text>\n",
       "<text text-anchor=\"middle\" x=\"245.667\" y=\"-6.8\" font-family=\"Helvetica,sans-Serif\" font-size=\"14.00\">class = Bad credit(&#45;1)</text>\n",
       "</g>\n",
       "<!-- 3&#45;&gt;5 -->\n",
       "<g id=\"edge5\" class=\"edge\"><title>3&#45;&gt;5</title>\n",
       "<path fill=\"none\" stroke=\"black\" d=\"M191.594,-99.7956C198.937,-90.7252 206.779,-81.0385 214.147,-71.9359\"/>\n",
       "<polygon fill=\"black\" stroke=\"black\" points=\"216.905,-74.0918 220.477,-64.1172 211.465,-69.6874 216.905,-74.0918\"/>\n",
       "</g>\n",
       "<!-- 8 -->\n",
       "<g id=\"node9\" class=\"node\"><title>8</title>\n",
       "<path fill=\"#e58139\" fill-opacity=\"0.368627\" stroke=\"black\" d=\"M558.826,-171C558.826,-171 434.508,-171 434.508,-171 428.508,-171 422.508,-165 422.508,-159 422.508,-159 422.508,-119 422.508,-119 422.508,-113 428.508,-107 434.508,-107 434.508,-107 558.826,-107 558.826,-107 564.826,-107 570.826,-113 570.826,-119 570.826,-119 570.826,-159 570.826,-159 570.826,-165 564.826,-171 558.826,-171\"/>\n",
       "<text text-anchor=\"middle\" x=\"496.667\" y=\"-155.8\" font-family=\"Helvetica,sans-Serif\" font-size=\"14.00\">gini = 0.475</text>\n",
       "<text text-anchor=\"middle\" x=\"496.667\" y=\"-141.8\" font-family=\"Helvetica,sans-Serif\" font-size=\"14.00\">samples = 142</text>\n",
       "<text text-anchor=\"middle\" x=\"496.667\" y=\"-127.8\" font-family=\"Helvetica,sans-Serif\" font-size=\"14.00\">value = [87, 55]</text>\n",
       "<text text-anchor=\"middle\" x=\"496.667\" y=\"-113.8\" font-family=\"Helvetica,sans-Serif\" font-size=\"14.00\">class = Bad credit(&#45;1)</text>\n",
       "</g>\n",
       "<!-- 7&#45;&gt;8 -->\n",
       "<g id=\"edge8\" class=\"edge\"><title>7&#45;&gt;8</title>\n",
       "<path fill=\"none\" stroke=\"black\" d=\"M559.898,-213.769C550.189,-202.442 539.552,-190.032 529.819,-178.677\"/>\n",
       "<polygon fill=\"black\" stroke=\"black\" points=\"532.412,-176.325 523.247,-171.01 527.098,-180.88 532.412,-176.325\"/>\n",
       "</g>\n",
       "<!-- 9 -->\n",
       "<g id=\"node10\" class=\"node\"><title>9</title>\n",
       "<path fill=\"#399de5\" fill-opacity=\"0.678431\" stroke=\"black\" d=\"M748.335,-178C748.335,-178 600.999,-178 600.999,-178 594.999,-178 588.999,-172 588.999,-166 588.999,-166 588.999,-112 588.999,-112 588.999,-106 594.999,-100 600.999,-100 600.999,-100 748.335,-100 748.335,-100 754.335,-100 760.335,-106 760.335,-112 760.335,-112 760.335,-166 760.335,-166 760.335,-172 754.335,-178 748.335,-178\"/>\n",
       "<text text-anchor=\"middle\" x=\"674.667\" y=\"-162.8\" font-family=\"Helvetica,sans-Serif\" font-size=\"14.00\">credit_amount &lt;= 1543.0</text>\n",
       "<text text-anchor=\"middle\" x=\"674.667\" y=\"-148.8\" font-family=\"Helvetica,sans-Serif\" font-size=\"14.00\">gini = 0.367</text>\n",
       "<text text-anchor=\"middle\" x=\"674.667\" y=\"-134.8\" font-family=\"Helvetica,sans-Serif\" font-size=\"14.00\">samples = 33</text>\n",
       "<text text-anchor=\"middle\" x=\"674.667\" y=\"-120.8\" font-family=\"Helvetica,sans-Serif\" font-size=\"14.00\">value = [8, 25]</text>\n",
       "<text text-anchor=\"middle\" x=\"674.667\" y=\"-106.8\" font-family=\"Helvetica,sans-Serif\" font-size=\"14.00\">class = Good credit(1)</text>\n",
       "</g>\n",
       "<!-- 7&#45;&gt;9 -->\n",
       "<g id=\"edge9\" class=\"edge\"><title>7&#45;&gt;9</title>\n",
       "<path fill=\"none\" stroke=\"black\" d=\"M620.657,-213.769C627.122,-204.939 634.069,-195.451 640.756,-186.318\"/>\n",
       "<polygon fill=\"black\" stroke=\"black\" points=\"643.719,-188.195 646.803,-178.058 638.071,-184.06 643.719,-188.195\"/>\n",
       "</g>\n",
       "<!-- 10 -->\n",
       "<g id=\"node11\" class=\"node\"><title>10</title>\n",
       "<path fill=\"#e58139\" stroke=\"black\" d=\"M619.826,-64C619.826,-64 495.508,-64 495.508,-64 489.508,-64 483.508,-58 483.508,-52 483.508,-52 483.508,-12 483.508,-12 483.508,-6 489.508,-0 495.508,-0 495.508,-0 619.826,-0 619.826,-0 625.826,-0 631.826,-6 631.826,-12 631.826,-12 631.826,-52 631.826,-52 631.826,-58 625.826,-64 619.826,-64\"/>\n",
       "<text text-anchor=\"middle\" x=\"557.667\" y=\"-48.8\" font-family=\"Helvetica,sans-Serif\" font-size=\"14.00\">gini = 0.0</text>\n",
       "<text text-anchor=\"middle\" x=\"557.667\" y=\"-34.8\" font-family=\"Helvetica,sans-Serif\" font-size=\"14.00\">samples = 4</text>\n",
       "<text text-anchor=\"middle\" x=\"557.667\" y=\"-20.8\" font-family=\"Helvetica,sans-Serif\" font-size=\"14.00\">value = [4, 0]</text>\n",
       "<text text-anchor=\"middle\" x=\"557.667\" y=\"-6.8\" font-family=\"Helvetica,sans-Serif\" font-size=\"14.00\">class = Bad credit(&#45;1)</text>\n",
       "</g>\n",
       "<!-- 9&#45;&gt;10 -->\n",
       "<g id=\"edge10\" class=\"edge\"><title>9&#45;&gt;10</title>\n",
       "<path fill=\"none\" stroke=\"black\" d=\"M632.096,-99.7956C621.581,-90.3587 610.322,-80.2547 599.827,-70.8355\"/>\n",
       "<polygon fill=\"black\" stroke=\"black\" points=\"602.121,-68.1914 592.34,-64.1172 597.445,-73.4012 602.121,-68.1914\"/>\n",
       "</g>\n",
       "<!-- 11 -->\n",
       "<g id=\"node12\" class=\"node\"><title>11</title>\n",
       "<path fill=\"#399de5\" fill-opacity=\"0.839216\" stroke=\"black\" d=\"M791.501,-64C791.501,-64 661.833,-64 661.833,-64 655.833,-64 649.833,-58 649.833,-52 649.833,-52 649.833,-12 649.833,-12 649.833,-6 655.833,-0 661.833,-0 661.833,-0 791.501,-0 791.501,-0 797.501,-0 803.501,-6 803.501,-12 803.501,-12 803.501,-52 803.501,-52 803.501,-58 797.501,-64 791.501,-64\"/>\n",
       "<text text-anchor=\"middle\" x=\"726.667\" y=\"-48.8\" font-family=\"Helvetica,sans-Serif\" font-size=\"14.00\">gini = 0.238</text>\n",
       "<text text-anchor=\"middle\" x=\"726.667\" y=\"-34.8\" font-family=\"Helvetica,sans-Serif\" font-size=\"14.00\">samples = 29</text>\n",
       "<text text-anchor=\"middle\" x=\"726.667\" y=\"-20.8\" font-family=\"Helvetica,sans-Serif\" font-size=\"14.00\">value = [4, 25]</text>\n",
       "<text text-anchor=\"middle\" x=\"726.667\" y=\"-6.8\" font-family=\"Helvetica,sans-Serif\" font-size=\"14.00\">class = Good credit(1)</text>\n",
       "</g>\n",
       "<!-- 9&#45;&gt;11 -->\n",
       "<g id=\"edge11\" class=\"edge\"><title>9&#45;&gt;11</title>\n",
       "<path fill=\"none\" stroke=\"black\" d=\"M693.587,-99.7956C697.852,-91.1833 702.393,-82.0154 706.699,-73.3194\"/>\n",
       "<polygon fill=\"black\" stroke=\"black\" points=\"709.955,-74.6318 711.257,-64.1172 703.682,-71.5252 709.955,-74.6318\"/>\n",
       "</g>\n",
       "<!-- 13 -->\n",
       "<g id=\"node14\" class=\"node\"><title>13</title>\n",
       "<path fill=\"#399de5\" fill-opacity=\"0.607843\" stroke=\"black\" d=\"M929.335,-292C929.335,-292 781.999,-292 781.999,-292 775.999,-292 769.999,-286 769.999,-280 769.999,-280 769.999,-226 769.999,-226 769.999,-220 775.999,-214 781.999,-214 781.999,-214 929.335,-214 929.335,-214 935.335,-214 941.335,-220 941.335,-226 941.335,-226 941.335,-280 941.335,-280 941.335,-286 935.335,-292 929.335,-292\"/>\n",
       "<text text-anchor=\"middle\" x=\"855.667\" y=\"-276.8\" font-family=\"Helvetica,sans-Serif\" font-size=\"14.00\">credit_amount &lt;= 2190.5</text>\n",
       "<text text-anchor=\"middle\" x=\"855.667\" y=\"-262.8\" font-family=\"Helvetica,sans-Serif\" font-size=\"14.00\">gini = 0.405</text>\n",
       "<text text-anchor=\"middle\" x=\"855.667\" y=\"-248.8\" font-family=\"Helvetica,sans-Serif\" font-size=\"14.00\">samples = 46</text>\n",
       "<text text-anchor=\"middle\" x=\"855.667\" y=\"-234.8\" font-family=\"Helvetica,sans-Serif\" font-size=\"14.00\">value = [13, 33]</text>\n",
       "<text text-anchor=\"middle\" x=\"855.667\" y=\"-220.8\" font-family=\"Helvetica,sans-Serif\" font-size=\"14.00\">class = Good credit(1)</text>\n",
       "</g>\n",
       "<!-- 12&#45;&gt;13 -->\n",
       "<g id=\"edge13\" class=\"edge\"><title>12&#45;&gt;13</title>\n",
       "<path fill=\"none\" stroke=\"black\" d=\"M855.667,-327.769C855.667,-319.57 855.667,-310.803 855.667,-302.28\"/>\n",
       "<polygon fill=\"black\" stroke=\"black\" points=\"859.167,-302.058 855.667,-292.058 852.167,-302.059 859.167,-302.058\"/>\n",
       "</g>\n",
       "<!-- 18 -->\n",
       "<g id=\"node19\" class=\"node\"><title>18</title>\n",
       "<path fill=\"#399de5\" fill-opacity=\"0.937255\" stroke=\"black\" d=\"M1101.5,-285C1101.5,-285 971.833,-285 971.833,-285 965.833,-285 959.833,-279 959.833,-273 959.833,-273 959.833,-233 959.833,-233 959.833,-227 965.833,-221 971.833,-221 971.833,-221 1101.5,-221 1101.5,-221 1107.5,-221 1113.5,-227 1113.5,-233 1113.5,-233 1113.5,-273 1113.5,-273 1113.5,-279 1107.5,-285 1101.5,-285\"/>\n",
       "<text text-anchor=\"middle\" x=\"1036.67\" y=\"-269.8\" font-family=\"Helvetica,sans-Serif\" font-size=\"14.00\">gini = 0.113</text>\n",
       "<text text-anchor=\"middle\" x=\"1036.67\" y=\"-255.8\" font-family=\"Helvetica,sans-Serif\" font-size=\"14.00\">samples = 217</text>\n",
       "<text text-anchor=\"middle\" x=\"1036.67\" y=\"-241.8\" font-family=\"Helvetica,sans-Serif\" font-size=\"14.00\">value = [13, 204]</text>\n",
       "<text text-anchor=\"middle\" x=\"1036.67\" y=\"-227.8\" font-family=\"Helvetica,sans-Serif\" font-size=\"14.00\">class = Good credit(1)</text>\n",
       "</g>\n",
       "<!-- 12&#45;&gt;18 -->\n",
       "<g id=\"edge18\" class=\"edge\"><title>12&#45;&gt;18</title>\n",
       "<path fill=\"none\" stroke=\"black\" d=\"M917.198,-327.926C936.75,-315.827 958.319,-302.481 977.687,-290.496\"/>\n",
       "<polygon fill=\"black\" stroke=\"black\" points=\"979.754,-293.333 986.416,-285.095 976.07,-287.38 979.754,-293.333\"/>\n",
       "</g>\n",
       "<!-- 14 -->\n",
       "<g id=\"node15\" class=\"node\"><title>14</title>\n",
       "<path fill=\"#399de5\" stroke=\"black\" d=\"M920.501,-171C920.501,-171 790.833,-171 790.833,-171 784.833,-171 778.833,-165 778.833,-159 778.833,-159 778.833,-119 778.833,-119 778.833,-113 784.833,-107 790.833,-107 790.833,-107 920.501,-107 920.501,-107 926.501,-107 932.501,-113 932.501,-119 932.501,-119 932.501,-159 932.501,-159 932.501,-165 926.501,-171 920.501,-171\"/>\n",
       "<text text-anchor=\"middle\" x=\"855.667\" y=\"-155.8\" font-family=\"Helvetica,sans-Serif\" font-size=\"14.00\">gini = 0.0</text>\n",
       "<text text-anchor=\"middle\" x=\"855.667\" y=\"-141.8\" font-family=\"Helvetica,sans-Serif\" font-size=\"14.00\">samples = 15</text>\n",
       "<text text-anchor=\"middle\" x=\"855.667\" y=\"-127.8\" font-family=\"Helvetica,sans-Serif\" font-size=\"14.00\">value = [0, 15]</text>\n",
       "<text text-anchor=\"middle\" x=\"855.667\" y=\"-113.8\" font-family=\"Helvetica,sans-Serif\" font-size=\"14.00\">class = Good credit(1)</text>\n",
       "</g>\n",
       "<!-- 13&#45;&gt;14 -->\n",
       "<g id=\"edge14\" class=\"edge\"><title>13&#45;&gt;14</title>\n",
       "<path fill=\"none\" stroke=\"black\" d=\"M855.667,-213.769C855.667,-203.313 855.667,-191.935 855.667,-181.315\"/>\n",
       "<polygon fill=\"black\" stroke=\"black\" points=\"859.167,-181.01 855.667,-171.01 852.167,-181.01 859.167,-181.01\"/>\n",
       "</g>\n",
       "<!-- 15 -->\n",
       "<g id=\"node16\" class=\"node\"><title>15</title>\n",
       "<path fill=\"#399de5\" fill-opacity=\"0.278431\" stroke=\"black\" d=\"M1107.5,-178C1107.5,-178 961.837,-178 961.837,-178 955.837,-178 949.837,-172 949.837,-166 949.837,-166 949.837,-112 949.837,-112 949.837,-106 955.837,-100 961.837,-100 961.837,-100 1107.5,-100 1107.5,-100 1113.5,-100 1119.5,-106 1119.5,-112 1119.5,-112 1119.5,-166 1119.5,-166 1119.5,-172 1113.5,-178 1107.5,-178\"/>\n",
       "<text text-anchor=\"middle\" x=\"1034.67\" y=\"-162.8\" font-family=\"Helvetica,sans-Serif\" font-size=\"14.00\">purpose:business &lt;= 0.5</text>\n",
       "<text text-anchor=\"middle\" x=\"1034.67\" y=\"-148.8\" font-family=\"Helvetica,sans-Serif\" font-size=\"14.00\">gini = 0.487</text>\n",
       "<text text-anchor=\"middle\" x=\"1034.67\" y=\"-134.8\" font-family=\"Helvetica,sans-Serif\" font-size=\"14.00\">samples = 31</text>\n",
       "<text text-anchor=\"middle\" x=\"1034.67\" y=\"-120.8\" font-family=\"Helvetica,sans-Serif\" font-size=\"14.00\">value = [13, 18]</text>\n",
       "<text text-anchor=\"middle\" x=\"1034.67\" y=\"-106.8\" font-family=\"Helvetica,sans-Serif\" font-size=\"14.00\">class = Good credit(1)</text>\n",
       "</g>\n",
       "<!-- 13&#45;&gt;15 -->\n",
       "<g id=\"edge15\" class=\"edge\"><title>13&#45;&gt;15</title>\n",
       "<path fill=\"none\" stroke=\"black\" d=\"M916.518,-213.926C932.082,-204.187 948.938,-193.641 964.911,-183.646\"/>\n",
       "<polygon fill=\"black\" stroke=\"black\" points=\"967.059,-186.431 973.68,-178.159 963.346,-180.497 967.059,-186.431\"/>\n",
       "</g>\n",
       "<!-- 16 -->\n",
       "<g id=\"node17\" class=\"node\"><title>16</title>\n",
       "<path fill=\"#399de5\" fill-opacity=\"0.588235\" stroke=\"black\" d=\"M1014.5,-64C1014.5,-64 884.833,-64 884.833,-64 878.833,-64 872.833,-58 872.833,-52 872.833,-52 872.833,-12 872.833,-12 872.833,-6 878.833,-0 884.833,-0 884.833,-0 1014.5,-0 1014.5,-0 1020.5,-0 1026.5,-6 1026.5,-12 1026.5,-12 1026.5,-52 1026.5,-52 1026.5,-58 1020.5,-64 1014.5,-64\"/>\n",
       "<text text-anchor=\"middle\" x=\"949.667\" y=\"-48.8\" font-family=\"Helvetica,sans-Serif\" font-size=\"14.00\">gini = 0.413</text>\n",
       "<text text-anchor=\"middle\" x=\"949.667\" y=\"-34.8\" font-family=\"Helvetica,sans-Serif\" font-size=\"14.00\">samples = 24</text>\n",
       "<text text-anchor=\"middle\" x=\"949.667\" y=\"-20.8\" font-family=\"Helvetica,sans-Serif\" font-size=\"14.00\">value = [7, 17]</text>\n",
       "<text text-anchor=\"middle\" x=\"949.667\" y=\"-6.8\" font-family=\"Helvetica,sans-Serif\" font-size=\"14.00\">class = Good credit(1)</text>\n",
       "</g>\n",
       "<!-- 15&#45;&gt;16 -->\n",
       "<g id=\"edge16\" class=\"edge\"><title>15&#45;&gt;16</title>\n",
       "<path fill=\"none\" stroke=\"black\" d=\"M1003.74,-99.7956C996.397,-90.7252 988.555,-81.0385 981.187,-71.9359\"/>\n",
       "<polygon fill=\"black\" stroke=\"black\" points=\"983.869,-69.6874 974.857,-64.1172 978.429,-74.0918 983.869,-69.6874\"/>\n",
       "</g>\n",
       "<!-- 17 -->\n",
       "<g id=\"node18\" class=\"node\"><title>17</title>\n",
       "<path fill=\"#e58139\" fill-opacity=\"0.831373\" stroke=\"black\" d=\"M1180.83,-64C1180.83,-64 1056.51,-64 1056.51,-64 1050.51,-64 1044.51,-58 1044.51,-52 1044.51,-52 1044.51,-12 1044.51,-12 1044.51,-6 1050.51,-0 1056.51,-0 1056.51,-0 1180.83,-0 1180.83,-0 1186.83,-0 1192.83,-6 1192.83,-12 1192.83,-12 1192.83,-52 1192.83,-52 1192.83,-58 1186.83,-64 1180.83,-64\"/>\n",
       "<text text-anchor=\"middle\" x=\"1118.67\" y=\"-48.8\" font-family=\"Helvetica,sans-Serif\" font-size=\"14.00\">gini = 0.245</text>\n",
       "<text text-anchor=\"middle\" x=\"1118.67\" y=\"-34.8\" font-family=\"Helvetica,sans-Serif\" font-size=\"14.00\">samples = 7</text>\n",
       "<text text-anchor=\"middle\" x=\"1118.67\" y=\"-20.8\" font-family=\"Helvetica,sans-Serif\" font-size=\"14.00\">value = [6, 1]</text>\n",
       "<text text-anchor=\"middle\" x=\"1118.67\" y=\"-6.8\" font-family=\"Helvetica,sans-Serif\" font-size=\"14.00\">class = Bad credit(&#45;1)</text>\n",
       "</g>\n",
       "<!-- 15&#45;&gt;17 -->\n",
       "<g id=\"edge17\" class=\"edge\"><title>15&#45;&gt;17</title>\n",
       "<path fill=\"none\" stroke=\"black\" d=\"M1065.23,-99.7956C1072.49,-90.7252 1080.24,-81.0385 1087.52,-71.9359\"/>\n",
       "<polygon fill=\"black\" stroke=\"black\" points=\"1090.26,-74.1123 1093.77,-64.1172 1084.79,-69.7394 1090.26,-74.1123\"/>\n",
       "</g>\n",
       "</g>\n",
       "</svg>\n"
      ],
      "text/plain": [
       "<graphviz.files.Source at 0x10bc3f550>"
      ]
     },
     "execution_count": 195,
     "metadata": {},
     "output_type": "execute_result"
    }
   ],
   "source": [
    "from sklearn.tree import DecisionTreeClassifier\n",
    "from sklearn.tree import export_graphviz\n",
    "import graphviz\n",
    "clf=DecisionTreeClassifier(max_depth=6, min_impurity_decrease=0.005)\n",
    "clf.fit(X_train,y_train)\n",
    "dot_data=export_graphviz(clf,out_file=None,feature_names=feature_names,class_names=target_names,filled=True, rounded=True)\n",
    "graph = graphviz.Source(dot_data) \n",
    "graph"
   ]
  },
  {
   "cell_type": "markdown",
   "metadata": {},
   "source": [
    "### Discussion"
   ]
  },
  {
   "cell_type": "markdown",
   "metadata": {
    "collapsed": true
   },
   "source": [
    "The results of L2/L1 regularized logisitic regression are mostly consistent. The result of decision tree is somewhat different from them. \n",
    "\n",
    "Based on these results, the key features determining people's credit include checking account status, savings account status, credit history, whether foreign_worker or not, sex & marital status, purpose of loan, employment history, etc. The features selected are all consistent with my intuition."
   ]
  },
  {
   "cell_type": "markdown",
   "metadata": {},
   "source": [
    "### Z-score"
   ]
  },
  {
   "cell_type": "code",
   "execution_count": 196,
   "metadata": {
    "collapsed": false
   },
   "outputs": [
    {
     "name": "stderr",
     "output_type": "stream",
     "text": [
      "//anaconda/lib/python3.5/site-packages/sklearn/utils/validation.py:475: DataConversionWarning: Data with input dtype int64 was converted to float64 by StandardScaler.\n",
      "  warnings.warn(msg, DataConversionWarning)\n"
     ]
    }
   ],
   "source": [
    "from sklearn.preprocessing import StandardScaler\n",
    "ss=StandardScaler()\n",
    "X_train=ss.fit_transform(X_train)\n",
    "X_test=ss.transform(X_test)\n",
    "\n",
    "a = {}\n",
    "a['X_train'] = X_train\n",
    "a['y_train'] = y_train\n",
    "a['X_test'] = X_test\n",
    "a['y_test'] = y_test\n",
    "a['target_names'] = target_names\n",
    "a['feature_names'] = feature_names\n",
    "import pickle\n",
    "pickle.dump(a, open(\"jqian15.pickle\", \"wb\"))"
   ]
  },
  {
   "cell_type": "markdown",
   "metadata": {},
   "source": [
    "### L2-regularized logistic regression (Z-scored)"
   ]
  },
  {
   "cell_type": "code",
   "execution_count": 197,
   "metadata": {
    "collapsed": false
   },
   "outputs": [
    {
     "name": "stdout",
     "output_type": "stream",
     "text": [
      "Top 10 features and their weights\n"
     ]
    },
    {
     "data": {
      "text/plain": [
       "[('Chckg_acct_status:no_acct', 0.51172040110734307),\n",
       " ('Chckg_acct_status:<0DM', -0.38841602767577216),\n",
       " ('Duration_in_month', -0.35793890323912514),\n",
       " ('installment_rate', -0.34184134641369535),\n",
       " ('credit_amount', -0.34182112722925845),\n",
       " ('credit_hist:4', 0.29699811431201095),\n",
       " ('purpose:new_car', -0.27602897142763072),\n",
       " ('saving_acct_status:<100DM', -0.25427296418019674),\n",
       " ('purpose:used_car', 0.25354393467412262),\n",
       " ('saving_acct_status:>1000', 0.24275346825470442)]"
      ]
     },
     "execution_count": 197,
     "metadata": {},
     "output_type": "execute_result"
    }
   ],
   "source": [
    "from sklearn.linear_model import LogisticRegression\n",
    "clf_l2=LogisticRegression(penalty='l2')\n",
    "clf_l2.fit(X_train,y_train)\n",
    "#predictions=clf.predict(X_test)\n",
    "feat_coef=[(feature_names[i],clf_l2.coef_[0][i]) for i in range(len(feature_names))]\n",
    "feat_coef=sorted(feat_coef,key=lambda x:abs(x[1]),reverse=True )\n",
    "print(\"Top 10 features and their weights\")\n",
    "feat_coef[:10]"
   ]
  },
  {
   "cell_type": "markdown",
   "metadata": {},
   "source": [
    "### L1-regularized logistic regression (Z-scored)"
   ]
  },
  {
   "cell_type": "code",
   "execution_count": 198,
   "metadata": {
    "collapsed": false
   },
   "outputs": [
    {
     "name": "stdout",
     "output_type": "stream",
     "text": [
      "Top 10 features and their weights\n"
     ]
    },
    {
     "data": {
      "text/plain": [
       "[('Chckg_acct_status:no_acct', 0.67861175130116935),\n",
       " ('credit_hist:4', 0.42215634301655142),\n",
       " ('Duration_in_month', -0.35205159028009481),\n",
       " ('installment_rate', -0.31988877905578017),\n",
       " ('credit_amount', -0.31287978656157434),\n",
       " ('saving_acct_status:<100DM', -0.29157236051886087),\n",
       " ('purpose:new_car', -0.27539314624822819),\n",
       " ('property:none', -0.25609688931516783),\n",
       " ('purpose:used_car', 0.23111386252505878),\n",
       " ('installment_plans:none', 0.22782855359417484)]"
      ]
     },
     "execution_count": 198,
     "metadata": {},
     "output_type": "execute_result"
    }
   ],
   "source": [
    "from sklearn.linear_model import LogisticRegression\n",
    "clf=LogisticRegression(penalty='l1')\n",
    "clf.fit(X_train,y_train)\n",
    "#predictions=clf.predict(X_test)\n",
    "feat_coef=[(feature_names[i],clf.coef_[0][i]) for i in range(len(feature_names))]\n",
    "feat_coef=sorted(feat_coef,key=lambda x:abs(x[1]),reverse=True )\n",
    "print(\"Top 10 features and their weights\")\n",
    "feat_coef[:10]"
   ]
  },
  {
   "cell_type": "markdown",
   "metadata": {},
   "source": [
    "### Decision tree (Z-scored)"
   ]
  },
  {
   "cell_type": "code",
   "execution_count": 199,
   "metadata": {
    "collapsed": false
   },
   "outputs": [
    {
     "data": {
      "image/svg+xml": [
       "<?xml version=\"1.0\" encoding=\"UTF-8\" standalone=\"no\"?>\n",
       "<!DOCTYPE svg PUBLIC \"-//W3C//DTD SVG 1.1//EN\"\n",
       " \"http://www.w3.org/Graphics/SVG/1.1/DTD/svg11.dtd\">\n",
       "<!-- Generated by graphviz version 2.38.0 (20140413.2041)\n",
       " -->\n",
       "<!-- Title: Tree Pages: 1 -->\n",
       "<svg width=\"1206pt\" height=\"528pt\"\n",
       " viewBox=\"0.00 0.00 1206.00 528.00\" xmlns=\"http://www.w3.org/2000/svg\" xmlns:xlink=\"http://www.w3.org/1999/xlink\">\n",
       "<g id=\"graph0\" class=\"graph\" transform=\"scale(1 1) rotate(0) translate(4 524)\">\n",
       "<title>Tree</title>\n",
       "<polygon fill=\"white\" stroke=\"none\" points=\"-4,4 -4,-524 1202,-524 1202,4 -4,4\"/>\n",
       "<!-- 0 -->\n",
       "<g id=\"node1\" class=\"node\"><title>0</title>\n",
       "<path fill=\"#399de5\" fill-opacity=\"0.588235\" stroke=\"black\" d=\"M832.038,-520C832.038,-520 609.296,-520 609.296,-520 603.296,-520 597.296,-514 597.296,-508 597.296,-508 597.296,-454 597.296,-454 597.296,-448 603.296,-442 609.296,-442 609.296,-442 832.038,-442 832.038,-442 838.038,-442 844.038,-448 844.038,-454 844.038,-454 844.038,-508 844.038,-508 844.038,-514 838.038,-520 832.038,-520\"/>\n",
       "<text text-anchor=\"middle\" x=\"720.667\" y=\"-504.8\" font-family=\"Helvetica,sans-Serif\" font-size=\"14.00\">Chckg_acct_status:no_acct &lt;= 0.216</text>\n",
       "<text text-anchor=\"middle\" x=\"720.667\" y=\"-490.8\" font-family=\"Helvetica,sans-Serif\" font-size=\"14.00\">gini = 0.414</text>\n",
       "<text text-anchor=\"middle\" x=\"720.667\" y=\"-476.8\" font-family=\"Helvetica,sans-Serif\" font-size=\"14.00\">samples = 667</text>\n",
       "<text text-anchor=\"middle\" x=\"720.667\" y=\"-462.8\" font-family=\"Helvetica,sans-Serif\" font-size=\"14.00\">value = [195, 472]</text>\n",
       "<text text-anchor=\"middle\" x=\"720.667\" y=\"-448.8\" font-family=\"Helvetica,sans-Serif\" font-size=\"14.00\">class = Good credit(1)</text>\n",
       "</g>\n",
       "<!-- 1 -->\n",
       "<g id=\"node2\" class=\"node\"><title>1</title>\n",
       "<path fill=\"#399de5\" fill-opacity=\"0.282353\" stroke=\"black\" d=\"M673.628,-406C673.628,-406 503.706,-406 503.706,-406 497.706,-406 491.706,-400 491.706,-394 491.706,-394 491.706,-340 491.706,-340 491.706,-334 497.706,-328 503.706,-328 503.706,-328 673.628,-328 673.628,-328 679.628,-328 685.628,-334 685.628,-340 685.628,-340 685.628,-394 685.628,-394 685.628,-400 679.628,-406 673.628,-406\"/>\n",
       "<text text-anchor=\"middle\" x=\"588.667\" y=\"-390.8\" font-family=\"Helvetica,sans-Serif\" font-size=\"14.00\">Duration_in_month &lt;= 0.121</text>\n",
       "<text text-anchor=\"middle\" x=\"588.667\" y=\"-376.8\" font-family=\"Helvetica,sans-Serif\" font-size=\"14.00\">gini = 0.487</text>\n",
       "<text text-anchor=\"middle\" x=\"588.667\" y=\"-362.8\" font-family=\"Helvetica,sans-Serif\" font-size=\"14.00\">samples = 404</text>\n",
       "<text text-anchor=\"middle\" x=\"588.667\" y=\"-348.8\" font-family=\"Helvetica,sans-Serif\" font-size=\"14.00\">value = [169, 235]</text>\n",
       "<text text-anchor=\"middle\" x=\"588.667\" y=\"-334.8\" font-family=\"Helvetica,sans-Serif\" font-size=\"14.00\">class = Good credit(1)</text>\n",
       "</g>\n",
       "<!-- 0&#45;&gt;1 -->\n",
       "<g id=\"edge1\" class=\"edge\"><title>0&#45;&gt;1</title>\n",
       "<path fill=\"none\" stroke=\"black\" d=\"M675.609,-441.769C664.565,-432.398 652.648,-422.287 641.284,-412.644\"/>\n",
       "<polygon fill=\"black\" stroke=\"black\" points=\"643.411,-409.86 633.522,-406.058 638.882,-415.197 643.411,-409.86\"/>\n",
       "<text text-anchor=\"middle\" x=\"635.564\" y=\"-426.775\" font-family=\"Helvetica,sans-Serif\" font-size=\"14.00\">True</text>\n",
       "</g>\n",
       "<!-- 12 -->\n",
       "<g id=\"node13\" class=\"node\"><title>12</title>\n",
       "<path fill=\"#399de5\" fill-opacity=\"0.890196\" stroke=\"black\" d=\"M948.414,-406C948.414,-406 756.92,-406 756.92,-406 750.92,-406 744.92,-400 744.92,-394 744.92,-394 744.92,-340 744.92,-340 744.92,-334 750.92,-328 756.92,-328 756.92,-328 948.414,-328 948.414,-328 954.414,-328 960.414,-334 960.414,-340 960.414,-340 960.414,-394 960.414,-394 960.414,-400 954.414,-406 948.414,-406\"/>\n",
       "<text text-anchor=\"middle\" x=\"852.667\" y=\"-390.8\" font-family=\"Helvetica,sans-Serif\" font-size=\"14.00\">installment_plans:none &lt;= &#45;0.82</text>\n",
       "<text text-anchor=\"middle\" x=\"852.667\" y=\"-376.8\" font-family=\"Helvetica,sans-Serif\" font-size=\"14.00\">gini = 0.178</text>\n",
       "<text text-anchor=\"middle\" x=\"852.667\" y=\"-362.8\" font-family=\"Helvetica,sans-Serif\" font-size=\"14.00\">samples = 263</text>\n",
       "<text text-anchor=\"middle\" x=\"852.667\" y=\"-348.8\" font-family=\"Helvetica,sans-Serif\" font-size=\"14.00\">value = [26, 237]</text>\n",
       "<text text-anchor=\"middle\" x=\"852.667\" y=\"-334.8\" font-family=\"Helvetica,sans-Serif\" font-size=\"14.00\">class = Good credit(1)</text>\n",
       "</g>\n",
       "<!-- 0&#45;&gt;12 -->\n",
       "<g id=\"edge12\" class=\"edge\"><title>0&#45;&gt;12</title>\n",
       "<path fill=\"none\" stroke=\"black\" d=\"M765.725,-441.769C776.769,-432.398 788.686,-422.287 800.05,-412.644\"/>\n",
       "<polygon fill=\"black\" stroke=\"black\" points=\"802.452,-415.197 807.812,-406.058 797.923,-409.86 802.452,-415.197\"/>\n",
       "<text text-anchor=\"middle\" x=\"805.77\" y=\"-426.775\" font-family=\"Helvetica,sans-Serif\" font-size=\"14.00\">False</text>\n",
       "</g>\n",
       "<!-- 2 -->\n",
       "<g id=\"node3\" class=\"node\"><title>2</title>\n",
       "<path fill=\"#399de5\" fill-opacity=\"0.521569\" stroke=\"black\" d=\"M395.763,-292C395.763,-292 263.571,-292 263.571,-292 257.571,-292 251.571,-286 251.571,-280 251.571,-280 251.571,-226 251.571,-226 251.571,-220 257.571,-214 263.571,-214 263.571,-214 395.763,-214 395.763,-214 401.763,-214 407.763,-220 407.763,-226 407.763,-226 407.763,-280 407.763,-280 407.763,-286 401.763,-292 395.763,-292\"/>\n",
       "<text text-anchor=\"middle\" x=\"329.667\" y=\"-276.8\" font-family=\"Helvetica,sans-Serif\" font-size=\"14.00\">credit_amount &lt;= 1.46</text>\n",
       "<text text-anchor=\"middle\" x=\"329.667\" y=\"-262.8\" font-family=\"Helvetica,sans-Serif\" font-size=\"14.00\">gini = 0.437</text>\n",
       "<text text-anchor=\"middle\" x=\"329.667\" y=\"-248.8\" font-family=\"Helvetica,sans-Serif\" font-size=\"14.00\">samples = 229</text>\n",
       "<text text-anchor=\"middle\" x=\"329.667\" y=\"-234.8\" font-family=\"Helvetica,sans-Serif\" font-size=\"14.00\">value = [74, 155]</text>\n",
       "<text text-anchor=\"middle\" x=\"329.667\" y=\"-220.8\" font-family=\"Helvetica,sans-Serif\" font-size=\"14.00\">class = Good credit(1)</text>\n",
       "</g>\n",
       "<!-- 1&#45;&gt;2 -->\n",
       "<g id=\"edge2\" class=\"edge\"><title>1&#45;&gt;2</title>\n",
       "<path fill=\"none\" stroke=\"black\" d=\"M500.62,-327.926C473.728,-316.296 444.169,-303.514 417.304,-291.897\"/>\n",
       "<polygon fill=\"black\" stroke=\"black\" points=\"418.49,-288.597 407.922,-287.84 415.712,-295.022 418.49,-288.597\"/>\n",
       "</g>\n",
       "<!-- 7 -->\n",
       "<g id=\"node8\" class=\"node\"><title>7</title>\n",
       "<path fill=\"#e58139\" fill-opacity=\"0.156863\" stroke=\"black\" d=\"M700.324,-292C700.324,-292 477.01,-292 477.01,-292 471.01,-292 465.01,-286 465.01,-280 465.01,-280 465.01,-226 465.01,-226 465.01,-220 471.01,-214 477.01,-214 477.01,-214 700.324,-214 700.324,-214 706.324,-214 712.324,-220 712.324,-226 712.324,-226 712.324,-280 712.324,-280 712.324,-286 706.324,-292 700.324,-292\"/>\n",
       "<text text-anchor=\"middle\" x=\"588.667\" y=\"-276.8\" font-family=\"Helvetica,sans-Serif\" font-size=\"14.00\">saving_acct_status:no_acct &lt;= 0.758</text>\n",
       "<text text-anchor=\"middle\" x=\"588.667\" y=\"-262.8\" font-family=\"Helvetica,sans-Serif\" font-size=\"14.00\">gini = 0.496</text>\n",
       "<text text-anchor=\"middle\" x=\"588.667\" y=\"-248.8\" font-family=\"Helvetica,sans-Serif\" font-size=\"14.00\">samples = 175</text>\n",
       "<text text-anchor=\"middle\" x=\"588.667\" y=\"-234.8\" font-family=\"Helvetica,sans-Serif\" font-size=\"14.00\">value = [95, 80]</text>\n",
       "<text text-anchor=\"middle\" x=\"588.667\" y=\"-220.8\" font-family=\"Helvetica,sans-Serif\" font-size=\"14.00\">class = Bad credit(&#45;1)</text>\n",
       "</g>\n",
       "<!-- 1&#45;&gt;7 -->\n",
       "<g id=\"edge7\" class=\"edge\"><title>1&#45;&gt;7</title>\n",
       "<path fill=\"none\" stroke=\"black\" d=\"M588.667,-327.769C588.667,-319.57 588.667,-310.803 588.667,-302.28\"/>\n",
       "<polygon fill=\"black\" stroke=\"black\" points=\"592.167,-302.058 588.667,-292.058 585.167,-302.059 592.167,-302.058\"/>\n",
       "</g>\n",
       "<!-- 3 -->\n",
       "<g id=\"node4\" class=\"node\"><title>3</title>\n",
       "<path fill=\"#399de5\" fill-opacity=\"0.552941\" stroke=\"black\" d=\"M225.501,-178C225.501,-178 95.8326,-178 95.8326,-178 89.8326,-178 83.8326,-172 83.8326,-166 83.8326,-166 83.8326,-112 83.8326,-112 83.8326,-106 89.8326,-100 95.8326,-100 95.8326,-100 225.501,-100 225.501,-100 231.501,-100 237.501,-106 237.501,-112 237.501,-112 237.501,-166 237.501,-166 237.501,-172 231.501,-178 225.501,-178\"/>\n",
       "<text text-anchor=\"middle\" x=\"160.667\" y=\"-162.8\" font-family=\"Helvetica,sans-Serif\" font-size=\"14.00\">credit_hist:1 &lt;= 2.115</text>\n",
       "<text text-anchor=\"middle\" x=\"160.667\" y=\"-148.8\" font-family=\"Helvetica,sans-Serif\" font-size=\"14.00\">gini = 0.426</text>\n",
       "<text text-anchor=\"middle\" x=\"160.667\" y=\"-134.8\" font-family=\"Helvetica,sans-Serif\" font-size=\"14.00\">samples = 224</text>\n",
       "<text text-anchor=\"middle\" x=\"160.667\" y=\"-120.8\" font-family=\"Helvetica,sans-Serif\" font-size=\"14.00\">value = [69, 155]</text>\n",
       "<text text-anchor=\"middle\" x=\"160.667\" y=\"-106.8\" font-family=\"Helvetica,sans-Serif\" font-size=\"14.00\">class = Good credit(1)</text>\n",
       "</g>\n",
       "<!-- 2&#45;&gt;3 -->\n",
       "<g id=\"edge3\" class=\"edge\"><title>2&#45;&gt;3</title>\n",
       "<path fill=\"none\" stroke=\"black\" d=\"M271.979,-213.769C257.432,-204.128 241.701,-193.703 226.775,-183.811\"/>\n",
       "<polygon fill=\"black\" stroke=\"black\" points=\"228.364,-180.665 218.095,-178.058 224.497,-186.5 228.364,-180.665\"/>\n",
       "</g>\n",
       "<!-- 6 -->\n",
       "<g id=\"node7\" class=\"node\"><title>6</title>\n",
       "<path fill=\"#e58139\" stroke=\"black\" d=\"M391.826,-171C391.826,-171 267.508,-171 267.508,-171 261.508,-171 255.508,-165 255.508,-159 255.508,-159 255.508,-119 255.508,-119 255.508,-113 261.508,-107 267.508,-107 267.508,-107 391.826,-107 391.826,-107 397.826,-107 403.826,-113 403.826,-119 403.826,-119 403.826,-159 403.826,-159 403.826,-165 397.826,-171 391.826,-171\"/>\n",
       "<text text-anchor=\"middle\" x=\"329.667\" y=\"-155.8\" font-family=\"Helvetica,sans-Serif\" font-size=\"14.00\">gini = 0.0</text>\n",
       "<text text-anchor=\"middle\" x=\"329.667\" y=\"-141.8\" font-family=\"Helvetica,sans-Serif\" font-size=\"14.00\">samples = 5</text>\n",
       "<text text-anchor=\"middle\" x=\"329.667\" y=\"-127.8\" font-family=\"Helvetica,sans-Serif\" font-size=\"14.00\">value = [5, 0]</text>\n",
       "<text text-anchor=\"middle\" x=\"329.667\" y=\"-113.8\" font-family=\"Helvetica,sans-Serif\" font-size=\"14.00\">class = Bad credit(&#45;1)</text>\n",
       "</g>\n",
       "<!-- 2&#45;&gt;6 -->\n",
       "<g id=\"edge6\" class=\"edge\"><title>2&#45;&gt;6</title>\n",
       "<path fill=\"none\" stroke=\"black\" d=\"M329.667,-213.769C329.667,-203.313 329.667,-191.935 329.667,-181.315\"/>\n",
       "<polygon fill=\"black\" stroke=\"black\" points=\"333.167,-181.01 329.667,-171.01 326.167,-181.01 333.167,-181.01\"/>\n",
       "</g>\n",
       "<!-- 4 -->\n",
       "<g id=\"node5\" class=\"node\"><title>4</title>\n",
       "<path fill=\"#399de5\" fill-opacity=\"0.603922\" stroke=\"black\" d=\"M141.501,-64C141.501,-64 11.8326,-64 11.8326,-64 5.83264,-64 -0.167357,-58 -0.167357,-52 -0.167357,-52 -0.167357,-12 -0.167357,-12 -0.167357,-6 5.83264,-0 11.8326,-0 11.8326,-0 141.501,-0 141.501,-0 147.501,-0 153.501,-6 153.501,-12 153.501,-12 153.501,-52 153.501,-52 153.501,-58 147.501,-64 141.501,-64\"/>\n",
       "<text text-anchor=\"middle\" x=\"76.667\" y=\"-48.8\" font-family=\"Helvetica,sans-Serif\" font-size=\"14.00\">gini = 0.406</text>\n",
       "<text text-anchor=\"middle\" x=\"76.667\" y=\"-34.8\" font-family=\"Helvetica,sans-Serif\" font-size=\"14.00\">samples = 212</text>\n",
       "<text text-anchor=\"middle\" x=\"76.667\" y=\"-20.8\" font-family=\"Helvetica,sans-Serif\" font-size=\"14.00\">value = [60, 152]</text>\n",
       "<text text-anchor=\"middle\" x=\"76.667\" y=\"-6.8\" font-family=\"Helvetica,sans-Serif\" font-size=\"14.00\">class = Good credit(1)</text>\n",
       "</g>\n",
       "<!-- 3&#45;&gt;4 -->\n",
       "<g id=\"edge4\" class=\"edge\"><title>3&#45;&gt;4</title>\n",
       "<path fill=\"none\" stroke=\"black\" d=\"M130.103,-99.7956C122.847,-90.7252 115.098,-81.0385 107.816,-71.9359\"/>\n",
       "<polygon fill=\"black\" stroke=\"black\" points=\"110.541,-69.7394 101.561,-64.1172 105.075,-74.1123 110.541,-69.7394\"/>\n",
       "</g>\n",
       "<!-- 5 -->\n",
       "<g id=\"node6\" class=\"node\"><title>5</title>\n",
       "<path fill=\"#e58139\" fill-opacity=\"0.666667\" stroke=\"black\" d=\"M307.826,-64C307.826,-64 183.508,-64 183.508,-64 177.508,-64 171.508,-58 171.508,-52 171.508,-52 171.508,-12 171.508,-12 171.508,-6 177.508,-0 183.508,-0 183.508,-0 307.826,-0 307.826,-0 313.826,-0 319.826,-6 319.826,-12 319.826,-12 319.826,-52 319.826,-52 319.826,-58 313.826,-64 307.826,-64\"/>\n",
       "<text text-anchor=\"middle\" x=\"245.667\" y=\"-48.8\" font-family=\"Helvetica,sans-Serif\" font-size=\"14.00\">gini = 0.375</text>\n",
       "<text text-anchor=\"middle\" x=\"245.667\" y=\"-34.8\" font-family=\"Helvetica,sans-Serif\" font-size=\"14.00\">samples = 12</text>\n",
       "<text text-anchor=\"middle\" x=\"245.667\" y=\"-20.8\" font-family=\"Helvetica,sans-Serif\" font-size=\"14.00\">value = [9, 3]</text>\n",
       "<text text-anchor=\"middle\" x=\"245.667\" y=\"-6.8\" font-family=\"Helvetica,sans-Serif\" font-size=\"14.00\">class = Bad credit(&#45;1)</text>\n",
       "</g>\n",
       "<!-- 3&#45;&gt;5 -->\n",
       "<g id=\"edge5\" class=\"edge\"><title>3&#45;&gt;5</title>\n",
       "<path fill=\"none\" stroke=\"black\" d=\"M191.594,-99.7956C198.937,-90.7252 206.779,-81.0385 214.147,-71.9359\"/>\n",
       "<polygon fill=\"black\" stroke=\"black\" points=\"216.905,-74.0918 220.477,-64.1172 211.465,-69.6874 216.905,-74.0918\"/>\n",
       "</g>\n",
       "<!-- 8 -->\n",
       "<g id=\"node9\" class=\"node\"><title>8</title>\n",
       "<path fill=\"#e58139\" fill-opacity=\"0.368627\" stroke=\"black\" d=\"M558.826,-171C558.826,-171 434.508,-171 434.508,-171 428.508,-171 422.508,-165 422.508,-159 422.508,-159 422.508,-119 422.508,-119 422.508,-113 428.508,-107 434.508,-107 434.508,-107 558.826,-107 558.826,-107 564.826,-107 570.826,-113 570.826,-119 570.826,-119 570.826,-159 570.826,-159 570.826,-165 564.826,-171 558.826,-171\"/>\n",
       "<text text-anchor=\"middle\" x=\"496.667\" y=\"-155.8\" font-family=\"Helvetica,sans-Serif\" font-size=\"14.00\">gini = 0.475</text>\n",
       "<text text-anchor=\"middle\" x=\"496.667\" y=\"-141.8\" font-family=\"Helvetica,sans-Serif\" font-size=\"14.00\">samples = 142</text>\n",
       "<text text-anchor=\"middle\" x=\"496.667\" y=\"-127.8\" font-family=\"Helvetica,sans-Serif\" font-size=\"14.00\">value = [87, 55]</text>\n",
       "<text text-anchor=\"middle\" x=\"496.667\" y=\"-113.8\" font-family=\"Helvetica,sans-Serif\" font-size=\"14.00\">class = Bad credit(&#45;1)</text>\n",
       "</g>\n",
       "<!-- 7&#45;&gt;8 -->\n",
       "<g id=\"edge8\" class=\"edge\"><title>7&#45;&gt;8</title>\n",
       "<path fill=\"none\" stroke=\"black\" d=\"M557.263,-213.769C548.048,-202.551 537.961,-190.271 528.707,-179.005\"/>\n",
       "<polygon fill=\"black\" stroke=\"black\" points=\"531.192,-176.516 522.14,-171.01 525.782,-180.959 531.192,-176.516\"/>\n",
       "</g>\n",
       "<!-- 9 -->\n",
       "<g id=\"node10\" class=\"node\"><title>9</title>\n",
       "<path fill=\"#399de5\" fill-opacity=\"0.678431\" stroke=\"black\" d=\"M745.712,-178C745.712,-178 601.622,-178 601.622,-178 595.622,-178 589.622,-172 589.622,-166 589.622,-166 589.622,-112 589.622,-112 589.622,-106 595.622,-100 601.622,-100 601.622,-100 745.712,-100 745.712,-100 751.712,-100 757.712,-106 757.712,-112 757.712,-112 757.712,-166 757.712,-166 757.712,-172 751.712,-178 745.712,-178\"/>\n",
       "<text text-anchor=\"middle\" x=\"673.667\" y=\"-162.8\" font-family=\"Helvetica,sans-Serif\" font-size=\"14.00\">credit_amount &lt;= &#45;0.624</text>\n",
       "<text text-anchor=\"middle\" x=\"673.667\" y=\"-148.8\" font-family=\"Helvetica,sans-Serif\" font-size=\"14.00\">gini = 0.367</text>\n",
       "<text text-anchor=\"middle\" x=\"673.667\" y=\"-134.8\" font-family=\"Helvetica,sans-Serif\" font-size=\"14.00\">samples = 33</text>\n",
       "<text text-anchor=\"middle\" x=\"673.667\" y=\"-120.8\" font-family=\"Helvetica,sans-Serif\" font-size=\"14.00\">value = [8, 25]</text>\n",
       "<text text-anchor=\"middle\" x=\"673.667\" y=\"-106.8\" font-family=\"Helvetica,sans-Serif\" font-size=\"14.00\">class = Good credit(1)</text>\n",
       "</g>\n",
       "<!-- 7&#45;&gt;9 -->\n",
       "<g id=\"edge9\" class=\"edge\"><title>7&#45;&gt;9</title>\n",
       "<path fill=\"none\" stroke=\"black\" d=\"M617.681,-213.769C624.451,-204.849 631.731,-195.257 638.727,-186.038\"/>\n",
       "<polygon fill=\"black\" stroke=\"black\" points=\"641.526,-188.14 644.783,-178.058 635.95,-183.908 641.526,-188.14\"/>\n",
       "</g>\n",
       "<!-- 10 -->\n",
       "<g id=\"node11\" class=\"node\"><title>10</title>\n",
       "<path fill=\"#e58139\" stroke=\"black\" d=\"M621.826,-64C621.826,-64 497.508,-64 497.508,-64 491.508,-64 485.508,-58 485.508,-52 485.508,-52 485.508,-12 485.508,-12 485.508,-6 491.508,-0 497.508,-0 497.508,-0 621.826,-0 621.826,-0 627.826,-0 633.826,-6 633.826,-12 633.826,-12 633.826,-52 633.826,-52 633.826,-58 627.826,-64 621.826,-64\"/>\n",
       "<text text-anchor=\"middle\" x=\"559.667\" y=\"-48.8\" font-family=\"Helvetica,sans-Serif\" font-size=\"14.00\">gini = 0.0</text>\n",
       "<text text-anchor=\"middle\" x=\"559.667\" y=\"-34.8\" font-family=\"Helvetica,sans-Serif\" font-size=\"14.00\">samples = 4</text>\n",
       "<text text-anchor=\"middle\" x=\"559.667\" y=\"-20.8\" font-family=\"Helvetica,sans-Serif\" font-size=\"14.00\">value = [4, 0]</text>\n",
       "<text text-anchor=\"middle\" x=\"559.667\" y=\"-6.8\" font-family=\"Helvetica,sans-Serif\" font-size=\"14.00\">class = Bad credit(&#45;1)</text>\n",
       "</g>\n",
       "<!-- 9&#45;&gt;10 -->\n",
       "<g id=\"edge10\" class=\"edge\"><title>9&#45;&gt;10</title>\n",
       "<path fill=\"none\" stroke=\"black\" d=\"M632.188,-99.7956C622.042,-90.4503 611.185,-80.4509 601.044,-71.11\"/>\n",
       "<polygon fill=\"black\" stroke=\"black\" points=\"603.178,-68.3175 593.451,-64.1172 598.436,-73.4664 603.178,-68.3175\"/>\n",
       "</g>\n",
       "<!-- 11 -->\n",
       "<g id=\"node12\" class=\"node\"><title>11</title>\n",
       "<path fill=\"#399de5\" fill-opacity=\"0.839216\" stroke=\"black\" d=\"M793.501,-64C793.501,-64 663.833,-64 663.833,-64 657.833,-64 651.833,-58 651.833,-52 651.833,-52 651.833,-12 651.833,-12 651.833,-6 657.833,-0 663.833,-0 663.833,-0 793.501,-0 793.501,-0 799.501,-0 805.501,-6 805.501,-12 805.501,-12 805.501,-52 805.501,-52 805.501,-58 799.501,-64 793.501,-64\"/>\n",
       "<text text-anchor=\"middle\" x=\"728.667\" y=\"-48.8\" font-family=\"Helvetica,sans-Serif\" font-size=\"14.00\">gini = 0.238</text>\n",
       "<text text-anchor=\"middle\" x=\"728.667\" y=\"-34.8\" font-family=\"Helvetica,sans-Serif\" font-size=\"14.00\">samples = 29</text>\n",
       "<text text-anchor=\"middle\" x=\"728.667\" y=\"-20.8\" font-family=\"Helvetica,sans-Serif\" font-size=\"14.00\">value = [4, 25]</text>\n",
       "<text text-anchor=\"middle\" x=\"728.667\" y=\"-6.8\" font-family=\"Helvetica,sans-Serif\" font-size=\"14.00\">class = Good credit(1)</text>\n",
       "</g>\n",
       "<!-- 9&#45;&gt;11 -->\n",
       "<g id=\"edge11\" class=\"edge\"><title>9&#45;&gt;11</title>\n",
       "<path fill=\"none\" stroke=\"black\" d=\"M693.679,-99.7956C698.238,-91.0916 703.094,-81.8203 707.693,-73.042\"/>\n",
       "<polygon fill=\"black\" stroke=\"black\" points=\"710.828,-74.5995 712.368,-64.1172 704.627,-71.3515 710.828,-74.5995\"/>\n",
       "</g>\n",
       "<!-- 13 -->\n",
       "<g id=\"node14\" class=\"node\"><title>13</title>\n",
       "<path fill=\"#399de5\" fill-opacity=\"0.607843\" stroke=\"black\" d=\"M924.712,-292C924.712,-292 780.622,-292 780.622,-292 774.622,-292 768.622,-286 768.622,-280 768.622,-280 768.622,-226 768.622,-226 768.622,-220 774.622,-214 780.622,-214 780.622,-214 924.712,-214 924.712,-214 930.712,-214 936.712,-220 936.712,-226 936.712,-226 936.712,-280 936.712,-280 936.712,-286 930.712,-292 924.712,-292\"/>\n",
       "<text text-anchor=\"middle\" x=\"852.667\" y=\"-276.8\" font-family=\"Helvetica,sans-Serif\" font-size=\"14.00\">credit_amount &lt;= &#45;0.397</text>\n",
       "<text text-anchor=\"middle\" x=\"852.667\" y=\"-262.8\" font-family=\"Helvetica,sans-Serif\" font-size=\"14.00\">gini = 0.405</text>\n",
       "<text text-anchor=\"middle\" x=\"852.667\" y=\"-248.8\" font-family=\"Helvetica,sans-Serif\" font-size=\"14.00\">samples = 46</text>\n",
       "<text text-anchor=\"middle\" x=\"852.667\" y=\"-234.8\" font-family=\"Helvetica,sans-Serif\" font-size=\"14.00\">value = [13, 33]</text>\n",
       "<text text-anchor=\"middle\" x=\"852.667\" y=\"-220.8\" font-family=\"Helvetica,sans-Serif\" font-size=\"14.00\">class = Good credit(1)</text>\n",
       "</g>\n",
       "<!-- 12&#45;&gt;13 -->\n",
       "<g id=\"edge13\" class=\"edge\"><title>12&#45;&gt;13</title>\n",
       "<path fill=\"none\" stroke=\"black\" d=\"M852.667,-327.769C852.667,-319.57 852.667,-310.803 852.667,-302.28\"/>\n",
       "<polygon fill=\"black\" stroke=\"black\" points=\"856.167,-302.058 852.667,-292.058 849.167,-302.059 856.167,-302.058\"/>\n",
       "</g>\n",
       "<!-- 18 -->\n",
       "<g id=\"node19\" class=\"node\"><title>18</title>\n",
       "<path fill=\"#399de5\" fill-opacity=\"0.937255\" stroke=\"black\" d=\"M1096.5,-285C1096.5,-285 966.833,-285 966.833,-285 960.833,-285 954.833,-279 954.833,-273 954.833,-273 954.833,-233 954.833,-233 954.833,-227 960.833,-221 966.833,-221 966.833,-221 1096.5,-221 1096.5,-221 1102.5,-221 1108.5,-227 1108.5,-233 1108.5,-233 1108.5,-273 1108.5,-273 1108.5,-279 1102.5,-285 1096.5,-285\"/>\n",
       "<text text-anchor=\"middle\" x=\"1031.67\" y=\"-269.8\" font-family=\"Helvetica,sans-Serif\" font-size=\"14.00\">gini = 0.113</text>\n",
       "<text text-anchor=\"middle\" x=\"1031.67\" y=\"-255.8\" font-family=\"Helvetica,sans-Serif\" font-size=\"14.00\">samples = 217</text>\n",
       "<text text-anchor=\"middle\" x=\"1031.67\" y=\"-241.8\" font-family=\"Helvetica,sans-Serif\" font-size=\"14.00\">value = [13, 204]</text>\n",
       "<text text-anchor=\"middle\" x=\"1031.67\" y=\"-227.8\" font-family=\"Helvetica,sans-Serif\" font-size=\"14.00\">class = Good credit(1)</text>\n",
       "</g>\n",
       "<!-- 12&#45;&gt;18 -->\n",
       "<g id=\"edge18\" class=\"edge\"><title>12&#45;&gt;18</title>\n",
       "<path fill=\"none\" stroke=\"black\" d=\"M913.518,-327.926C932.854,-315.827 954.185,-302.481 973.339,-290.496\"/>\n",
       "<polygon fill=\"black\" stroke=\"black\" points=\"975.35,-293.366 981.971,-285.095 971.637,-287.432 975.35,-293.366\"/>\n",
       "</g>\n",
       "<!-- 14 -->\n",
       "<g id=\"node15\" class=\"node\"><title>14</title>\n",
       "<path fill=\"#399de5\" stroke=\"black\" d=\"M917.501,-171C917.501,-171 787.833,-171 787.833,-171 781.833,-171 775.833,-165 775.833,-159 775.833,-159 775.833,-119 775.833,-119 775.833,-113 781.833,-107 787.833,-107 787.833,-107 917.501,-107 917.501,-107 923.501,-107 929.501,-113 929.501,-119 929.501,-119 929.501,-159 929.501,-159 929.501,-165 923.501,-171 917.501,-171\"/>\n",
       "<text text-anchor=\"middle\" x=\"852.667\" y=\"-155.8\" font-family=\"Helvetica,sans-Serif\" font-size=\"14.00\">gini = 0.0</text>\n",
       "<text text-anchor=\"middle\" x=\"852.667\" y=\"-141.8\" font-family=\"Helvetica,sans-Serif\" font-size=\"14.00\">samples = 15</text>\n",
       "<text text-anchor=\"middle\" x=\"852.667\" y=\"-127.8\" font-family=\"Helvetica,sans-Serif\" font-size=\"14.00\">value = [0, 15]</text>\n",
       "<text text-anchor=\"middle\" x=\"852.667\" y=\"-113.8\" font-family=\"Helvetica,sans-Serif\" font-size=\"14.00\">class = Good credit(1)</text>\n",
       "</g>\n",
       "<!-- 13&#45;&gt;14 -->\n",
       "<g id=\"edge14\" class=\"edge\"><title>13&#45;&gt;14</title>\n",
       "<path fill=\"none\" stroke=\"black\" d=\"M852.667,-213.769C852.667,-203.313 852.667,-191.935 852.667,-181.315\"/>\n",
       "<polygon fill=\"black\" stroke=\"black\" points=\"856.167,-181.01 852.667,-171.01 849.167,-181.01 856.167,-181.01\"/>\n",
       "</g>\n",
       "<!-- 15 -->\n",
       "<g id=\"node16\" class=\"node\"><title>15</title>\n",
       "<path fill=\"#399de5\" fill-opacity=\"0.278431\" stroke=\"black\" d=\"M1120.07,-178C1120.07,-178 959.265,-178 959.265,-178 953.265,-178 947.265,-172 947.265,-166 947.265,-166 947.265,-112 947.265,-112 947.265,-106 953.265,-100 959.265,-100 959.265,-100 1120.07,-100 1120.07,-100 1126.07,-100 1132.07,-106 1132.07,-112 1132.07,-112 1132.07,-166 1132.07,-166 1132.07,-172 1126.07,-178 1120.07,-178\"/>\n",
       "<text text-anchor=\"middle\" x=\"1039.67\" y=\"-162.8\" font-family=\"Helvetica,sans-Serif\" font-size=\"14.00\">purpose:business &lt;= 1.289</text>\n",
       "<text text-anchor=\"middle\" x=\"1039.67\" y=\"-148.8\" font-family=\"Helvetica,sans-Serif\" font-size=\"14.00\">gini = 0.487</text>\n",
       "<text text-anchor=\"middle\" x=\"1039.67\" y=\"-134.8\" font-family=\"Helvetica,sans-Serif\" font-size=\"14.00\">samples = 31</text>\n",
       "<text text-anchor=\"middle\" x=\"1039.67\" y=\"-120.8\" font-family=\"Helvetica,sans-Serif\" font-size=\"14.00\">value = [13, 18]</text>\n",
       "<text text-anchor=\"middle\" x=\"1039.67\" y=\"-106.8\" font-family=\"Helvetica,sans-Serif\" font-size=\"14.00\">class = Good credit(1)</text>\n",
       "</g>\n",
       "<!-- 13&#45;&gt;15 -->\n",
       "<g id=\"edge15\" class=\"edge\"><title>13&#45;&gt;15</title>\n",
       "<path fill=\"none\" stroke=\"black\" d=\"M916.238,-213.926C932.648,-204.097 950.433,-193.445 967.257,-183.369\"/>\n",
       "<polygon fill=\"black\" stroke=\"black\" points=\"969.174,-186.3 975.955,-178.159 965.577,-180.295 969.174,-186.3\"/>\n",
       "</g>\n",
       "<!-- 16 -->\n",
       "<g id=\"node17\" class=\"node\"><title>16</title>\n",
       "<path fill=\"#399de5\" fill-opacity=\"0.588235\" stroke=\"black\" d=\"M1019.5,-64C1019.5,-64 889.833,-64 889.833,-64 883.833,-64 877.833,-58 877.833,-52 877.833,-52 877.833,-12 877.833,-12 877.833,-6 883.833,-0 889.833,-0 889.833,-0 1019.5,-0 1019.5,-0 1025.5,-0 1031.5,-6 1031.5,-12 1031.5,-12 1031.5,-52 1031.5,-52 1031.5,-58 1025.5,-64 1019.5,-64\"/>\n",
       "<text text-anchor=\"middle\" x=\"954.667\" y=\"-48.8\" font-family=\"Helvetica,sans-Serif\" font-size=\"14.00\">gini = 0.413</text>\n",
       "<text text-anchor=\"middle\" x=\"954.667\" y=\"-34.8\" font-family=\"Helvetica,sans-Serif\" font-size=\"14.00\">samples = 24</text>\n",
       "<text text-anchor=\"middle\" x=\"954.667\" y=\"-20.8\" font-family=\"Helvetica,sans-Serif\" font-size=\"14.00\">value = [7, 17]</text>\n",
       "<text text-anchor=\"middle\" x=\"954.667\" y=\"-6.8\" font-family=\"Helvetica,sans-Serif\" font-size=\"14.00\">class = Good credit(1)</text>\n",
       "</g>\n",
       "<!-- 15&#45;&gt;16 -->\n",
       "<g id=\"edge16\" class=\"edge\"><title>15&#45;&gt;16</title>\n",
       "<path fill=\"none\" stroke=\"black\" d=\"M1008.74,-99.7956C1001.4,-90.7252 993.555,-81.0385 986.187,-71.9359\"/>\n",
       "<polygon fill=\"black\" stroke=\"black\" points=\"988.869,-69.6874 979.857,-64.1172 983.429,-74.0918 988.869,-69.6874\"/>\n",
       "</g>\n",
       "<!-- 17 -->\n",
       "<g id=\"node18\" class=\"node\"><title>17</title>\n",
       "<path fill=\"#e58139\" fill-opacity=\"0.831373\" stroke=\"black\" d=\"M1185.83,-64C1185.83,-64 1061.51,-64 1061.51,-64 1055.51,-64 1049.51,-58 1049.51,-52 1049.51,-52 1049.51,-12 1049.51,-12 1049.51,-6 1055.51,-0 1061.51,-0 1061.51,-0 1185.83,-0 1185.83,-0 1191.83,-0 1197.83,-6 1197.83,-12 1197.83,-12 1197.83,-52 1197.83,-52 1197.83,-58 1191.83,-64 1185.83,-64\"/>\n",
       "<text text-anchor=\"middle\" x=\"1123.67\" y=\"-48.8\" font-family=\"Helvetica,sans-Serif\" font-size=\"14.00\">gini = 0.245</text>\n",
       "<text text-anchor=\"middle\" x=\"1123.67\" y=\"-34.8\" font-family=\"Helvetica,sans-Serif\" font-size=\"14.00\">samples = 7</text>\n",
       "<text text-anchor=\"middle\" x=\"1123.67\" y=\"-20.8\" font-family=\"Helvetica,sans-Serif\" font-size=\"14.00\">value = [6, 1]</text>\n",
       "<text text-anchor=\"middle\" x=\"1123.67\" y=\"-6.8\" font-family=\"Helvetica,sans-Serif\" font-size=\"14.00\">class = Bad credit(&#45;1)</text>\n",
       "</g>\n",
       "<!-- 15&#45;&gt;17 -->\n",
       "<g id=\"edge17\" class=\"edge\"><title>15&#45;&gt;17</title>\n",
       "<path fill=\"none\" stroke=\"black\" d=\"M1070.23,-99.7956C1077.49,-90.7252 1085.24,-81.0385 1092.52,-71.9359\"/>\n",
       "<polygon fill=\"black\" stroke=\"black\" points=\"1095.26,-74.1123 1098.77,-64.1172 1089.79,-69.7394 1095.26,-74.1123\"/>\n",
       "</g>\n",
       "</g>\n",
       "</svg>\n"
      ],
      "text/plain": [
       "<graphviz.files.Source at 0x10b264f98>"
      ]
     },
     "execution_count": 199,
     "metadata": {},
     "output_type": "execute_result"
    }
   ],
   "source": [
    "clf=DecisionTreeClassifier(max_depth=6, min_impurity_decrease=0.005)\n",
    "clf.fit(X_train,y_train)\n",
    "dot_data=export_graphviz(clf,out_file=None,feature_names=feature_names,class_names=target_names,filled=True, rounded=True)\n",
    "graph = graphviz.Source(dot_data) \n",
    "graph"
   ]
  },
  {
   "cell_type": "markdown",
   "metadata": {},
   "source": [
    "### Discussion"
   ]
  },
  {
   "cell_type": "markdown",
   "metadata": {
    "collapsed": true
   },
   "source": [
    "The results of L2/L1 regularized logisitic regression are different than before,\n",
    "but the result of decision tree is the same as before.\n",
    "\n",
    "They are still consistent with my intuition as well. The key features determining people's credit include checking account status, installment_rate, duration in month, credit history, existing credit amount, purpose of loan, etc."
   ]
  },
  {
   "cell_type": "markdown",
   "metadata": {},
   "source": [
    "## 6. Evidence"
   ]
  },
  {
   "cell_type": "code",
   "execution_count": 200,
   "metadata": {
    "collapsed": false
   },
   "outputs": [],
   "source": [
    "# We will use the L2 regularized logistic regression model trained on the Z-scored data.\n",
    "probabilites=clf_l2.predict_proba(X_test)\n",
    "\n",
    "\n",
    "def total_neg_pos_evidence(idx):\n",
    "    total_pos_evi=0\n",
    "    total_neg_evi=0\n",
    "    for i in range(len(feature_names)):\n",
    "        evid=clf_l2.coef_[0][i]*X_test[idx][i]\n",
    "        if evid<0:\n",
    "            total_neg_evi+=evid\n",
    "        else:\n",
    "            total_pos_evi+=evid\n",
    "#        if feat_coef[i]<0:\n",
    "#            total_neg_evi+=clf_l2.coef_[0][i]*X_test[idx][i]\n",
    "#        else:\n",
    "#            total_pos_evi+=clf_l2.coef_[0][i]*X_test[idx][i]\n",
    "    return total_neg_evi,total_pos_evi\n",
    "\n",
    "def print_info(idx):\n",
    "    print(\"[Object\",idx,\"]\\n\")\n",
    "    total_neg_evi,total_pos_evi=total_neg_pos_evidence(idx)\n",
    "    print(\"Total positive evidence\\t\",total_pos_evi)\n",
    "    print(\"Total negative evidence\\t\",total_neg_evi)\n",
    "    print(\"Probability distribution\\t\",probabilites[idx])\n",
    "    feat_evidence=[(i,clf_l2.coef_[0][i]*X_test[idx][i]) for i in range(len(feature_names))]\n",
    "    feat_evidence_ascending=sorted(feat_evidence, key=lambda x: x[1]) \n",
    "    feat_evidence_descending=sorted(feat_evidence, key=lambda x: -x[1]) \n",
    "    print(\"\\nTop 3 feature values contributing to positive evidence:\")\n",
    "    for i,evid in feat_evidence_descending[:3]:\n",
    "        print(feature_names[i],'=',X_test[idx][i],',\\t evidence =',evid)\n",
    "    print(\"\\nTop 3 feature values contributing to negative evidence:\")\n",
    "    for i,evid in feat_evidence_ascending[:3]:\n",
    "        print(feature_names[i],'=',X_test[idx][i],',\\t evidence =',evid)"
   ]
  },
  {
   "cell_type": "markdown",
   "metadata": {},
   "source": [
    "### The most positive object with respect to the probabilities"
   ]
  },
  {
   "cell_type": "code",
   "execution_count": 201,
   "metadata": {
    "collapsed": false
   },
   "outputs": [
    {
     "name": "stdout",
     "output_type": "stream",
     "text": [
      "[Object 107 ]\n",
      "\n",
      "Total positive evidence\t 6.74348657861\n",
      "Total negative evidence\t -1.49965005508\n",
      "Probability distribution\t [ 0.00139101  0.99860899]\n",
      "\n",
      "Top 3 feature values contributing to positive evidence:\n",
      "purpose:retraining = 14.8772757363 ,\t evidence = 2.45360836325\n",
      "Chckg_acct_status:no_acct = 1.23940375706 ,\t evidence = 0.634228187694\n",
      "Duration_in_month = -1.23332356029 ,\t evidence = 0.441454482509\n",
      "\n",
      "Top 3 feature values contributing to negative evidence:\n",
      "installment_rate = 0.938167819362 ,\t evidence = -0.320704550533\n",
      "#people_liable = 2.36726855174 ,\t evidence = -0.250455177496\n",
      "credit_hist:4 = -0.659096807875 ,\t evidence = -0.195750509088\n"
     ]
    }
   ],
   "source": [
    "\n",
    "idx=np.argmax(probabilites[:,1])\n",
    "print_info(idx)"
   ]
  },
  {
   "cell_type": "markdown",
   "metadata": {},
   "source": [
    "### The most negative object with respect to the probabilities"
   ]
  },
  {
   "cell_type": "code",
   "execution_count": 202,
   "metadata": {
    "collapsed": false
   },
   "outputs": [
    {
     "name": "stdout",
     "output_type": "stream",
     "text": [
      "[Object 195 ]\n",
      "\n",
      "Total positive evidence\t 1.58565166314\n",
      "Total negative evidence\t -6.11744025109\n",
      "Probability distribution\t [ 0.96080766  0.03919234]\n",
      "\n",
      "Top 3 feature values contributing to positive evidence:\n",
      "installment_rate = -1.70216102247 ,\t evidence = 0.581869015734\n",
      "purpose:new_car = -0.561766725646 ,\t evidence = 0.155063891462\n",
      "#existing_credits = -0.70786042311 ,\t evidence = 0.151893322567\n",
      "\n",
      "Top 3 feature values contributing to negative evidence:\n",
      "credit_amount = 3.03952706098 ,\t evidence = -1.03897456623\n",
      "sex&marital:M&divorced = 4.52947337251 ,\t evidence = -0.825418488344\n",
      "Chckg_acct_status:<0DM = 1.6262867961 ,\t evidence = -0.631675857203\n"
     ]
    }
   ],
   "source": [
    "\n",
    "idx=np.argmax(probabilites[:,0])\n",
    "print_info(idx)"
   ]
  },
  {
   "cell_type": "markdown",
   "metadata": {},
   "source": [
    "### The object that has the largest positive evidence"
   ]
  },
  {
   "cell_type": "code",
   "execution_count": 203,
   "metadata": {
    "collapsed": false
   },
   "outputs": [
    {
     "name": "stdout",
     "output_type": "stream",
     "text": [
      "[Object 107 ]\n",
      "\n",
      "Total positive evidence\t 6.74348657861\n",
      "Total negative evidence\t -1.49965005508\n",
      "Probability distribution\t [ 0.00139101  0.99860899]\n",
      "\n",
      "Top 3 feature values contributing to positive evidence:\n",
      "purpose:retraining = 14.8772757363 ,\t evidence = 2.45360836325\n",
      "Chckg_acct_status:no_acct = 1.23940375706 ,\t evidence = 0.634228187694\n",
      "Duration_in_month = -1.23332356029 ,\t evidence = 0.441454482509\n",
      "\n",
      "Top 3 feature values contributing to negative evidence:\n",
      "installment_rate = 0.938167819362 ,\t evidence = -0.320704550533\n",
      "#people_liable = 2.36726855174 ,\t evidence = -0.250455177496\n",
      "credit_hist:4 = -0.659096807875 ,\t evidence = -0.195750509088\n"
     ]
    }
   ],
   "source": [
    "object_evidence=[total_neg_pos_evidence(i) for i in range(len(X_test))]\n",
    "object_pos_evidence=[object_evidence[i][1] for i in range(len(X_test))]\n",
    "idx=np.argmax(object_pos_evidence)\n",
    "print_info(idx)"
   ]
  },
  {
   "cell_type": "markdown",
   "metadata": {},
   "source": [
    "### The object that has the largest negative evidence"
   ]
  },
  {
   "cell_type": "code",
   "execution_count": 204,
   "metadata": {
    "collapsed": false
   },
   "outputs": [
    {
     "name": "stdout",
     "output_type": "stream",
     "text": [
      "[Object 19 ]\n",
      "\n",
      "Total positive evidence\t 2.91575886541\n",
      "Total negative evidence\t -6.66245386895\n",
      "Probability distribution\t [ 0.91790368  0.08209632]\n",
      "\n",
      "Top 3 feature values contributing to positive evidence:\n",
      "purpose:other = 8.55050355892 ,\t evidence = 0.640122969739\n",
      "housing:free = 2.8973032629 ,\t evidence = 0.583131838948\n",
      "saving_acct_status:<100DM = -1.22781057048 ,\t evidence = 0.312199033209\n",
      "\n",
      "Top 3 feature values contributing to negative evidence:\n",
      "credit_amount = 4.0151119403 ,\t evidence = -1.37245008938\n",
      "Duration_in_month = 3.19910988558 ,\t evidence = -1.14508588379\n",
      "credit_hist:1 = 4.4546324203 ,\t evidence = -0.881743583949\n"
     ]
    }
   ],
   "source": [
    "object_neg_evidence=[object_evidence[i][0] for i in range(len(X_test))]\n",
    "idx=np.argmin(object_neg_evidence) # largest in magnitude\n",
    "print_info(idx)"
   ]
  },
  {
   "cell_type": "markdown",
   "metadata": {},
   "source": [
    "### The most uncertain object"
   ]
  },
  {
   "cell_type": "code",
   "execution_count": 205,
   "metadata": {
    "collapsed": false
   },
   "outputs": [
    {
     "name": "stdout",
     "output_type": "stream",
     "text": [
      "[Object 294 ]\n",
      "\n",
      "Total positive evidence\t 2.22843943645\n",
      "Total negative evidence\t -3.5572485009\n",
      "Probability distribution\t [ 0.49907834  0.50092166]\n",
      "\n",
      "Top 3 feature values contributing to positive evidence:\n",
      "credit_hist:4 = 1.51722780031 ,\t evidence = 0.450613795672\n",
      "Chckg_acct_status:<0DM = -0.614897693567 ,\t evidence = 0.238836119562\n",
      "property:life_insurance = 1.83288764636 ,\t evidence = 0.220589634543\n",
      "\n",
      "Top 3 feature values contributing to negative evidence:\n",
      "Duration_in_month = 1.96787837284 ,\t evidence = -0.704380226482\n",
      "employ_hist:1year = 2.17944947177 ,\t evidence = -0.490861643044\n",
      "Chckg_acct_status:no_acct = -0.806839574519 ,\t evidence = -0.412876270702\n"
     ]
    }
   ],
   "source": [
    "idx=np.argmin(abs(probabilites[:,0]-probabilites[:,1]))\n",
    "print_info(idx)"
   ]
  },
  {
   "cell_type": "code",
   "execution_count": null,
   "metadata": {
    "collapsed": true
   },
   "outputs": [],
   "source": []
  }
 ],
 "metadata": {
  "kernelspec": {
   "display_name": "Python [Root]",
   "language": "python",
   "name": "Python [Root]"
  },
  "language_info": {
   "codemirror_mode": {
    "name": "ipython",
    "version": 3
   },
   "file_extension": ".py",
   "mimetype": "text/x-python",
   "name": "python",
   "nbconvert_exporter": "python",
   "pygments_lexer": "ipython3",
   "version": "3.5.2"
  }
 },
 "nbformat": 4,
 "nbformat_minor": 0
}
