{
 "cells": [
  {
   "cell_type": "markdown",
   "metadata": {},
   "source": [
    "# Assignment: Decision Trees for Classification\n",
    "\n",
    "Jianwei Qian A20346099"
   ]
  },
  {
   "cell_type": "markdown",
   "metadata": {},
   "source": [
    "## Data set\n",
    "Statlog (German Credit Data) Data Set. <https://archive.ics.uci.edu/ml/datasets/statlog+(german+credit+data)>\n",
    "\n",
    "This dataset classifies people as with good or bad credit based on a set of attributes. The features include Balance of checking/saving account, Duration in month, Credit history, Credit amount, Marital status and sex, Property, Age, Housing, Job, etc. Notice ordered categorical attributes are coded as integer and unordered categorical attributes are split into multiple binary attributes.\n",
    "\n",
    "24 features, 936 instances\n",
    "\n",
    "The 24 feature names are:\n",
    "['Chckg acct','Duration','Credit hist','Credit amount','Saving acct','Employ since','Sex&marital','Residence since','Property','Age','Install plans','#Existing credits','#People liable','Tel provided?','Foreign worker?','Purpose:new car','Purpose:used car','Other debtors:1','Other debtors:2','Housing:rent','Housing:own','Job:unemployed','Job:unskilled','Job:skilled']\n",
    "\n",
    "To see detailed explanations of them, please refer to <https://archive.ics.uci.edu/ml/datasets/statlog+(german+credit+data)>\n",
    "\n",
    "## Load data"
   ]
  },
  {
   "cell_type": "code",
   "execution_count": 20,
   "metadata": {
    "collapsed": false
   },
   "outputs": [
    {
     "name": "stdout",
     "output_type": "stream",
     "text": [
      "Data shape:\n",
      "24 features, 936 instances\n",
      "\n",
      "Head 5 lines of X:\n",
      "[[ 1  6  4 12  5  5  3  4  1 67  3  2  1  2  1  0  0  1  0  0  1  0  0  1]\n",
      " [ 2 48  2 60  1  3  2  2  1 22  3  1  1  1  1  0  0  1  0  0  1  0  0  1]\n",
      " [ 4 12  4 21  1  4  3  3  1 49  3  1  2  1  1  0  0  1  0  0  1  0  1  0]\n",
      " [ 1 42  2 79  1  4  3  4  2 45  3  1  2  1  1  0  0  0  0  0  0  0  0  1]\n",
      " [ 1 24  3 49  1  3  3  4  4 53  3  2  2  1  1  1  0  1  0  0  0  0  0  1]]\n",
      "\n",
      "Head 5 lines of y (1 = Good credit, 2 = Bad credit):\n",
      "[1 2 1 1 2]\n"
     ]
    }
   ],
   "source": [
    "#load data (pre-processed by myself by removing extra whitespaces and converting to csv)\n",
    "import csv\n",
    "import numpy as np\n",
    "reader=csv.reader(open(\"GermanCreditData.csv\",\"rt\"),delimiter=',')\n",
    "data=list(reader)\n",
    "Xy=np.array(data).astype('int')#load feature data\n",
    "X=Xy[:,0:24]\n",
    "y=Xy[:,24]\n",
    "print('Data shape:\\n%d features, %d instances' % (len(X[0]),len(X)))\n",
    "print('\\nHead 5 lines of X:')\n",
    "print(X[:5])\n",
    "print('\\nHead 5 lines of y (1 = Good credit, 2 = Bad credit):')\n",
    "print(y[:5])"
   ]
  },
  {
   "cell_type": "code",
   "execution_count": 21,
   "metadata": {
    "collapsed": false
   },
   "outputs": [],
   "source": [
    "features=['Chckg acct','Duration','Credit hist','Credit amount','Saving acct','Employ since',\n",
    "          'Sex&marital','Residence since','Property','Age','Install plans','#Existing credits',\n",
    "          '#People liable','Tel provided?','Foreign worker?','Purpose:new car','Purpose:used car','Other debtors:1','Other debtors:2',\n",
    "          'Housing:rent','Housing:own','Job:unemployed','Job:unskilled','Job:skilled']\n",
    "classes=['Good','Bad']\n",
    "#for i in range(24):\n",
    "#    print(len(set(X[:,i])))"
   ]
  },
  {
   "cell_type": "code",
   "execution_count": 12,
   "metadata": {
    "collapsed": true
   },
   "outputs": [],
   "source": [
    "#train-test split\n",
    "from sklearn.model_selection import train_test_split\n",
    "X_train, X_test, y_train, y_test = train_test_split(X, y, test_size=0.333)\n"
   ]
  },
  {
   "cell_type": "markdown",
   "metadata": {},
   "source": [
    "## Decision tree based classification\n",
    "### max_depth=1"
   ]
  },
  {
   "cell_type": "code",
   "execution_count": 13,
   "metadata": {
    "collapsed": false
   },
   "outputs": [
    {
     "name": "stdout",
     "output_type": "stream",
     "text": [
      "Train accuracy = 0.706731\n",
      "Test accuracy = 0.685897\n"
     ]
    }
   ],
   "source": [
    "from sklearn.tree import DecisionTreeClassifier\n",
    "from sklearn.metrics import accuracy_score\n",
    "from sklearn.tree import export_graphviz\n",
    "clf = DecisionTreeClassifier(max_depth=1)\n",
    "clf.fit(X_train,y_train)\n",
    "train_pred=clf.predict(X_train)\n",
    "test_pred=clf.predict(X_test)\n",
    "print(\"Train accuracy = %f\" % accuracy_score(y_train,train_pred))\n",
    "print(\"Test accuracy = %f\" % accuracy_score(y_test,test_pred))"
   ]
  },
  {
   "cell_type": "code",
   "execution_count": 15,
   "metadata": {
    "collapsed": false
   },
   "outputs": [
    {
     "data": {
      "image/svg+xml": [
       "<?xml version=\"1.0\" encoding=\"UTF-8\" standalone=\"no\"?>\n",
       "<!DOCTYPE svg PUBLIC \"-//W3C//DTD SVG 1.1//EN\"\n",
       " \"http://www.w3.org/Graphics/SVG/1.1/DTD/svg11.dtd\">\n",
       "<!-- Generated by graphviz version 2.38.0 (20140413.2041)\n",
       " -->\n",
       "<!-- Title: Tree Pages: 1 -->\n",
       "<svg width=\"274pt\" height=\"186pt\"\n",
       " viewBox=\"0.00 0.00 273.81 186.00\" xmlns=\"http://www.w3.org/2000/svg\" xmlns:xlink=\"http://www.w3.org/1999/xlink\">\n",
       "<g id=\"graph0\" class=\"graph\" transform=\"scale(1 1) rotate(0) translate(4 182)\">\n",
       "<title>Tree</title>\n",
       "<polygon fill=\"white\" stroke=\"none\" points=\"-4,4 -4,-182 269.806,-182 269.806,4 -4,4\"/>\n",
       "<!-- 0 -->\n",
       "<g id=\"node1\" class=\"node\"><title>0</title>\n",
       "<path fill=\"#e58139\" fill-opacity=\"0.584314\" stroke=\"black\" d=\"M187.191,-178C187.191,-178 82.5087,-178 82.5087,-178 76.5087,-178 70.5087,-172 70.5087,-166 70.5087,-166 70.5087,-112 70.5087,-112 70.5087,-106 76.5087,-100 82.5087,-100 82.5087,-100 187.191,-100 187.191,-100 193.191,-100 199.191,-106 199.191,-112 199.191,-112 199.191,-166 199.191,-166 199.191,-172 193.191,-178 187.191,-178\"/>\n",
       "<text text-anchor=\"middle\" x=\"134.85\" y=\"-162.8\" font-family=\"Helvetica,sans-Serif\" font-size=\"14.00\">Chckg acct &lt;= 2.5</text>\n",
       "<text text-anchor=\"middle\" x=\"134.85\" y=\"-148.8\" font-family=\"Helvetica,sans-Serif\" font-size=\"14.00\">gini = 0.4145</text>\n",
       "<text text-anchor=\"middle\" x=\"134.85\" y=\"-134.8\" font-family=\"Helvetica,sans-Serif\" font-size=\"14.00\">samples = 624</text>\n",
       "<text text-anchor=\"middle\" x=\"134.85\" y=\"-120.8\" font-family=\"Helvetica,sans-Serif\" font-size=\"14.00\">value = [441, 183]</text>\n",
       "<text text-anchor=\"middle\" x=\"134.85\" y=\"-106.8\" font-family=\"Helvetica,sans-Serif\" font-size=\"14.00\">class = Good</text>\n",
       "</g>\n",
       "<!-- 1 -->\n",
       "<g id=\"node2\" class=\"node\"><title>1</title>\n",
       "<path fill=\"#e58139\" fill-opacity=\"0.176471\" stroke=\"black\" d=\"M115.549,-64C115.549,-64 12.15,-64 12.15,-64 6.15004,-64 0.150037,-58 0.150037,-52 0.150037,-52 0.150037,-12 0.150037,-12 0.150037,-6 6.15004,-0 12.15,-0 12.15,-0 115.549,-0 115.549,-0 121.549,-0 127.549,-6 127.549,-12 127.549,-12 127.549,-52 127.549,-52 127.549,-58 121.549,-64 115.549,-64\"/>\n",
       "<text text-anchor=\"middle\" x=\"63.8496\" y=\"-48.8\" font-family=\"Helvetica,sans-Serif\" font-size=\"14.00\">gini = 0.4952</text>\n",
       "<text text-anchor=\"middle\" x=\"63.8496\" y=\"-34.8\" font-family=\"Helvetica,sans-Serif\" font-size=\"14.00\">samples = 337</text>\n",
       "<text text-anchor=\"middle\" x=\"63.8496\" y=\"-20.8\" font-family=\"Helvetica,sans-Serif\" font-size=\"14.00\">value = [185, 152]</text>\n",
       "<text text-anchor=\"middle\" x=\"63.8496\" y=\"-6.8\" font-family=\"Helvetica,sans-Serif\" font-size=\"14.00\">class = Good</text>\n",
       "</g>\n",
       "<!-- 0&#45;&gt;1 -->\n",
       "<g id=\"edge1\" class=\"edge\"><title>0&#45;&gt;1</title>\n",
       "<path fill=\"none\" stroke=\"black\" d=\"M109.016,-99.7956C103.007,-90.9084 96.5973,-81.4296 90.5512,-72.4883\"/>\n",
       "<polygon fill=\"black\" stroke=\"black\" points=\"93.3917,-70.4406 84.8907,-64.1172 87.5929,-74.3616 93.3917,-70.4406\"/>\n",
       "<text text-anchor=\"middle\" x=\"80.1489\" y=\"-84.4633\" font-family=\"Helvetica,sans-Serif\" font-size=\"14.00\">True</text>\n",
       "</g>\n",
       "<!-- 2 -->\n",
       "<g id=\"node3\" class=\"node\"><title>2</title>\n",
       "<path fill=\"#e58139\" fill-opacity=\"0.878431\" stroke=\"black\" d=\"M253.763,-64C253.763,-64 157.936,-64 157.936,-64 151.936,-64 145.936,-58 145.936,-52 145.936,-52 145.936,-12 145.936,-12 145.936,-6 151.936,-0 157.936,-0 157.936,-0 253.763,-0 253.763,-0 259.763,-0 265.763,-6 265.763,-12 265.763,-12 265.763,-52 265.763,-52 265.763,-58 259.763,-64 253.763,-64\"/>\n",
       "<text text-anchor=\"middle\" x=\"205.85\" y=\"-48.8\" font-family=\"Helvetica,sans-Serif\" font-size=\"14.00\">gini = 0.1927</text>\n",
       "<text text-anchor=\"middle\" x=\"205.85\" y=\"-34.8\" font-family=\"Helvetica,sans-Serif\" font-size=\"14.00\">samples = 287</text>\n",
       "<text text-anchor=\"middle\" x=\"205.85\" y=\"-20.8\" font-family=\"Helvetica,sans-Serif\" font-size=\"14.00\">value = [256, 31]</text>\n",
       "<text text-anchor=\"middle\" x=\"205.85\" y=\"-6.8\" font-family=\"Helvetica,sans-Serif\" font-size=\"14.00\">class = Good</text>\n",
       "</g>\n",
       "<!-- 0&#45;&gt;2 -->\n",
       "<g id=\"edge2\" class=\"edge\"><title>0&#45;&gt;2</title>\n",
       "<path fill=\"none\" stroke=\"black\" d=\"M160.683,-99.7956C166.692,-90.9084 173.102,-81.4296 179.148,-72.4883\"/>\n",
       "<polygon fill=\"black\" stroke=\"black\" points=\"182.106,-74.3616 184.808,-64.1172 176.308,-70.4406 182.106,-74.3616\"/>\n",
       "<text text-anchor=\"middle\" x=\"189.55\" y=\"-84.4633\" font-family=\"Helvetica,sans-Serif\" font-size=\"14.00\">False</text>\n",
       "</g>\n",
       "</g>\n",
       "</svg>\n"
      ],
      "text/plain": [
       "<graphviz.files.Source at 0x10b6993c8>"
      ]
     },
     "execution_count": 15,
     "metadata": {},
     "output_type": "execute_result"
    }
   ],
   "source": [
    "import graphviz\n",
    "dot_data=export_graphviz(clf,out_file=None,feature_names=features,class_names=classes,filled=True, rounded=True)\n",
    "graph = graphviz.Source(dot_data) \n",
    "graph"
   ]
  },
  {
   "cell_type": "markdown",
   "metadata": {},
   "source": [
    "### max_depth=2"
   ]
  },
  {
   "cell_type": "code",
   "execution_count": 22,
   "metadata": {
    "collapsed": false
   },
   "outputs": [
    {
     "name": "stdout",
     "output_type": "stream",
     "text": [
      "Train accuracy = 0.746795\n",
      "Test accuracy = 0.682692\n"
     ]
    },
    {
     "data": {
      "image/svg+xml": [
       "<?xml version=\"1.0\" encoding=\"UTF-8\" standalone=\"no\"?>\n",
       "<!DOCTYPE svg PUBLIC \"-//W3C//DTD SVG 1.1//EN\"\n",
       " \"http://www.w3.org/Graphics/SVG/1.1/DTD/svg11.dtd\">\n",
       "<!-- Generated by graphviz version 2.38.0 (20140413.2041)\n",
       " -->\n",
       "<!-- Title: Tree Pages: 1 -->\n",
       "<svg width=\"538pt\" height=\"300pt\"\n",
       " viewBox=\"0.00 0.00 537.50 300.00\" xmlns=\"http://www.w3.org/2000/svg\" xmlns:xlink=\"http://www.w3.org/1999/xlink\">\n",
       "<g id=\"graph0\" class=\"graph\" transform=\"scale(1 1) rotate(0) translate(4 296)\">\n",
       "<title>Tree</title>\n",
       "<polygon fill=\"white\" stroke=\"none\" points=\"-4,4 -4,-296 533.504,-296 533.504,4 -4,4\"/>\n",
       "<!-- 0 -->\n",
       "<g id=\"node1\" class=\"node\"><title>0</title>\n",
       "<path fill=\"#e58139\" fill-opacity=\"0.584314\" stroke=\"black\" d=\"M315.888,-292C315.888,-292 211.206,-292 211.206,-292 205.206,-292 199.206,-286 199.206,-280 199.206,-280 199.206,-226 199.206,-226 199.206,-220 205.206,-214 211.206,-214 211.206,-214 315.888,-214 315.888,-214 321.888,-214 327.888,-220 327.888,-226 327.888,-226 327.888,-280 327.888,-280 327.888,-286 321.888,-292 315.888,-292\"/>\n",
       "<text text-anchor=\"middle\" x=\"263.547\" y=\"-276.8\" font-family=\"Helvetica,sans-Serif\" font-size=\"14.00\">Chckg acct &lt;= 2.5</text>\n",
       "<text text-anchor=\"middle\" x=\"263.547\" y=\"-262.8\" font-family=\"Helvetica,sans-Serif\" font-size=\"14.00\">gini = 0.4145</text>\n",
       "<text text-anchor=\"middle\" x=\"263.547\" y=\"-248.8\" font-family=\"Helvetica,sans-Serif\" font-size=\"14.00\">samples = 624</text>\n",
       "<text text-anchor=\"middle\" x=\"263.547\" y=\"-234.8\" font-family=\"Helvetica,sans-Serif\" font-size=\"14.00\">value = [441, 183]</text>\n",
       "<text text-anchor=\"middle\" x=\"263.547\" y=\"-220.8\" font-family=\"Helvetica,sans-Serif\" font-size=\"14.00\">class = Good</text>\n",
       "</g>\n",
       "<!-- 1 -->\n",
       "<g id=\"node2\" class=\"node\"><title>1</title>\n",
       "<path fill=\"#e58139\" fill-opacity=\"0.176471\" stroke=\"black\" d=\"M241.247,-178C241.247,-178 137.848,-178 137.848,-178 131.848,-178 125.848,-172 125.848,-166 125.848,-166 125.848,-112 125.848,-112 125.848,-106 131.848,-100 137.848,-100 137.848,-100 241.247,-100 241.247,-100 247.247,-100 253.247,-106 253.247,-112 253.247,-112 253.247,-166 253.247,-166 253.247,-172 247.247,-178 241.247,-178\"/>\n",
       "<text text-anchor=\"middle\" x=\"189.547\" y=\"-162.8\" font-family=\"Helvetica,sans-Serif\" font-size=\"14.00\">Credit hist &lt;= 1.5</text>\n",
       "<text text-anchor=\"middle\" x=\"189.547\" y=\"-148.8\" font-family=\"Helvetica,sans-Serif\" font-size=\"14.00\">gini = 0.4952</text>\n",
       "<text text-anchor=\"middle\" x=\"189.547\" y=\"-134.8\" font-family=\"Helvetica,sans-Serif\" font-size=\"14.00\">samples = 337</text>\n",
       "<text text-anchor=\"middle\" x=\"189.547\" y=\"-120.8\" font-family=\"Helvetica,sans-Serif\" font-size=\"14.00\">value = [185, 152]</text>\n",
       "<text text-anchor=\"middle\" x=\"189.547\" y=\"-106.8\" font-family=\"Helvetica,sans-Serif\" font-size=\"14.00\">class = Good</text>\n",
       "</g>\n",
       "<!-- 0&#45;&gt;1 -->\n",
       "<g id=\"edge1\" class=\"edge\"><title>0&#45;&gt;1</title>\n",
       "<path fill=\"none\" stroke=\"black\" d=\"M238.288,-213.769C232.513,-205.029 226.313,-195.645 220.335,-186.597\"/>\n",
       "<polygon fill=\"black\" stroke=\"black\" points=\"223.126,-184.472 214.693,-178.058 217.286,-188.331 223.126,-184.472\"/>\n",
       "<text text-anchor=\"middle\" x=\"209.689\" y=\"-198.353\" font-family=\"Helvetica,sans-Serif\" font-size=\"14.00\">True</text>\n",
       "</g>\n",
       "<!-- 4 -->\n",
       "<g id=\"node5\" class=\"node\"><title>4</title>\n",
       "<path fill=\"#e58139\" fill-opacity=\"0.878431\" stroke=\"black\" d=\"M393.072,-178C393.072,-178 284.023,-178 284.023,-178 278.023,-178 272.023,-172 272.023,-166 272.023,-166 272.023,-112 272.023,-112 272.023,-106 278.023,-100 284.023,-100 284.023,-100 393.072,-100 393.072,-100 399.072,-100 405.072,-106 405.072,-112 405.072,-112 405.072,-166 405.072,-166 405.072,-172 399.072,-178 393.072,-178\"/>\n",
       "<text text-anchor=\"middle\" x=\"338.547\" y=\"-162.8\" font-family=\"Helvetica,sans-Serif\" font-size=\"14.00\">Install plans &lt;= 2.5</text>\n",
       "<text text-anchor=\"middle\" x=\"338.547\" y=\"-148.8\" font-family=\"Helvetica,sans-Serif\" font-size=\"14.00\">gini = 0.1927</text>\n",
       "<text text-anchor=\"middle\" x=\"338.547\" y=\"-134.8\" font-family=\"Helvetica,sans-Serif\" font-size=\"14.00\">samples = 287</text>\n",
       "<text text-anchor=\"middle\" x=\"338.547\" y=\"-120.8\" font-family=\"Helvetica,sans-Serif\" font-size=\"14.00\">value = [256, 31]</text>\n",
       "<text text-anchor=\"middle\" x=\"338.547\" y=\"-106.8\" font-family=\"Helvetica,sans-Serif\" font-size=\"14.00\">class = Good</text>\n",
       "</g>\n",
       "<!-- 0&#45;&gt;4 -->\n",
       "<g id=\"edge4\" class=\"edge\"><title>0&#45;&gt;4</title>\n",
       "<path fill=\"none\" stroke=\"black\" d=\"M289.148,-213.769C295.001,-205.029 301.285,-195.645 307.344,-186.597\"/>\n",
       "<polygon fill=\"black\" stroke=\"black\" points=\"310.406,-188.315 313.062,-178.058 304.589,-184.42 310.406,-188.315\"/>\n",
       "<text text-anchor=\"middle\" x=\"317.914\" y=\"-198.383\" font-family=\"Helvetica,sans-Serif\" font-size=\"14.00\">False</text>\n",
       "</g>\n",
       "<!-- 2 -->\n",
       "<g id=\"node3\" class=\"node\"><title>2</title>\n",
       "<path fill=\"#399de5\" fill-opacity=\"0.694118\" stroke=\"black\" d=\"M99.1421,-64C99.1421,-64 11.9526,-64 11.9526,-64 5.9526,-64 -0.0474037,-58 -0.0474037,-52 -0.0474037,-52 -0.0474037,-12 -0.0474037,-12 -0.0474037,-6 5.9526,-0 11.9526,-0 11.9526,-0 99.1421,-0 99.1421,-0 105.142,-0 111.142,-6 111.142,-12 111.142,-12 111.142,-52 111.142,-52 111.142,-58 105.142,-64 99.1421,-64\"/>\n",
       "<text text-anchor=\"middle\" x=\"55.5474\" y=\"-48.8\" font-family=\"Helvetica,sans-Serif\" font-size=\"14.00\">gini = 0.3585</text>\n",
       "<text text-anchor=\"middle\" x=\"55.5474\" y=\"-34.8\" font-family=\"Helvetica,sans-Serif\" font-size=\"14.00\">samples = 47</text>\n",
       "<text text-anchor=\"middle\" x=\"55.5474\" y=\"-20.8\" font-family=\"Helvetica,sans-Serif\" font-size=\"14.00\">value = [11, 36]</text>\n",
       "<text text-anchor=\"middle\" x=\"55.5474\" y=\"-6.8\" font-family=\"Helvetica,sans-Serif\" font-size=\"14.00\">class = Bad</text>\n",
       "</g>\n",
       "<!-- 1&#45;&gt;2 -->\n",
       "<g id=\"edge2\" class=\"edge\"><title>1&#45;&gt;2</title>\n",
       "<path fill=\"none\" stroke=\"black\" d=\"M140.791,-99.7956C128.514,-90.1754 115.352,-79.8621 103.133,-70.2876\"/>\n",
       "<polygon fill=\"black\" stroke=\"black\" points=\"105.289,-67.5301 95.2588,-64.1172 100.971,-73.04 105.289,-67.5301\"/>\n",
       "</g>\n",
       "<!-- 3 -->\n",
       "<g id=\"node4\" class=\"node\"><title>3</title>\n",
       "<path fill=\"#e58139\" fill-opacity=\"0.333333\" stroke=\"black\" d=\"M243.715,-64C243.715,-64 141.38,-64 141.38,-64 135.38,-64 129.38,-58 129.38,-52 129.38,-52 129.38,-12 129.38,-12 129.38,-6 135.38,-0 141.38,-0 141.38,-0 243.715,-0 243.715,-0 249.715,-0 255.715,-6 255.715,-12 255.715,-12 255.715,-52 255.715,-52 255.715,-58 249.715,-64 243.715,-64\"/>\n",
       "<text text-anchor=\"middle\" x=\"192.547\" y=\"-48.8\" font-family=\"Helvetica,sans-Serif\" font-size=\"14.00\">gini = 0.48</text>\n",
       "<text text-anchor=\"middle\" x=\"192.547\" y=\"-34.8\" font-family=\"Helvetica,sans-Serif\" font-size=\"14.00\">samples = 290</text>\n",
       "<text text-anchor=\"middle\" x=\"192.547\" y=\"-20.8\" font-family=\"Helvetica,sans-Serif\" font-size=\"14.00\">value = [174, 116]</text>\n",
       "<text text-anchor=\"middle\" x=\"192.547\" y=\"-6.8\" font-family=\"Helvetica,sans-Serif\" font-size=\"14.00\">class = Good</text>\n",
       "</g>\n",
       "<!-- 1&#45;&gt;3 -->\n",
       "<g id=\"edge3\" class=\"edge\"><title>1&#45;&gt;3</title>\n",
       "<path fill=\"none\" stroke=\"black\" d=\"M190.639,-99.7956C190.877,-91.4581 191.13,-82.6 191.372,-74.1534\"/>\n",
       "<polygon fill=\"black\" stroke=\"black\" points=\"194.871,-74.2131 191.658,-64.1172 187.874,-74.0131 194.871,-74.2131\"/>\n",
       "</g>\n",
       "<!-- 5 -->\n",
       "<g id=\"node6\" class=\"node\"><title>5</title>\n",
       "<path fill=\"#e58139\" fill-opacity=\"0.576471\" stroke=\"black\" d=\"M379.674,-64C379.674,-64 291.42,-64 291.42,-64 285.42,-64 279.42,-58 279.42,-52 279.42,-52 279.42,-12 279.42,-12 279.42,-6 285.42,-0 291.42,-0 291.42,-0 379.674,-0 379.674,-0 385.674,-0 391.674,-6 391.674,-12 391.674,-12 391.674,-52 391.674,-52 391.674,-58 385.674,-64 379.674,-64\"/>\n",
       "<text text-anchor=\"middle\" x=\"335.547\" y=\"-48.8\" font-family=\"Helvetica,sans-Serif\" font-size=\"14.00\">gini = 0.4183</text>\n",
       "<text text-anchor=\"middle\" x=\"335.547\" y=\"-34.8\" font-family=\"Helvetica,sans-Serif\" font-size=\"14.00\">samples = 47</text>\n",
       "<text text-anchor=\"middle\" x=\"335.547\" y=\"-20.8\" font-family=\"Helvetica,sans-Serif\" font-size=\"14.00\">value = [33, 14]</text>\n",
       "<text text-anchor=\"middle\" x=\"335.547\" y=\"-6.8\" font-family=\"Helvetica,sans-Serif\" font-size=\"14.00\">class = Good</text>\n",
       "</g>\n",
       "<!-- 4&#45;&gt;5 -->\n",
       "<g id=\"edge5\" class=\"edge\"><title>4&#45;&gt;5</title>\n",
       "<path fill=\"none\" stroke=\"black\" d=\"M337.456,-99.7956C337.218,-91.4581 336.965,-82.6 336.723,-74.1534\"/>\n",
       "<polygon fill=\"black\" stroke=\"black\" points=\"340.221,-74.0131 336.436,-64.1172 333.224,-74.2131 340.221,-74.0131\"/>\n",
       "</g>\n",
       "<!-- 6 -->\n",
       "<g id=\"node7\" class=\"node\"><title>6</title>\n",
       "<path fill=\"#e58139\" fill-opacity=\"0.925490\" stroke=\"black\" d=\"M517.46,-64C517.46,-64 421.634,-64 421.634,-64 415.634,-64 409.634,-58 409.634,-52 409.634,-52 409.634,-12 409.634,-12 409.634,-6 415.634,-0 421.634,-0 421.634,-0 517.46,-0 517.46,-0 523.46,-0 529.46,-6 529.46,-12 529.46,-12 529.46,-52 529.46,-52 529.46,-58 523.46,-64 517.46,-64\"/>\n",
       "<text text-anchor=\"middle\" x=\"469.547\" y=\"-48.8\" font-family=\"Helvetica,sans-Serif\" font-size=\"14.00\">gini = 0.1316</text>\n",
       "<text text-anchor=\"middle\" x=\"469.547\" y=\"-34.8\" font-family=\"Helvetica,sans-Serif\" font-size=\"14.00\">samples = 240</text>\n",
       "<text text-anchor=\"middle\" x=\"469.547\" y=\"-20.8\" font-family=\"Helvetica,sans-Serif\" font-size=\"14.00\">value = [223, 17]</text>\n",
       "<text text-anchor=\"middle\" x=\"469.547\" y=\"-6.8\" font-family=\"Helvetica,sans-Serif\" font-size=\"14.00\">class = Good</text>\n",
       "</g>\n",
       "<!-- 4&#45;&gt;6 -->\n",
       "<g id=\"edge6\" class=\"edge\"><title>4&#45;&gt;6</title>\n",
       "<path fill=\"none\" stroke=\"black\" d=\"M386.212,-99.7956C398.1,-90.2671 410.836,-80.0585 422.685,-70.5614\"/>\n",
       "<polygon fill=\"black\" stroke=\"black\" points=\"425.111,-73.1024 430.725,-64.1172 420.733,-67.6404 425.111,-73.1024\"/>\n",
       "</g>\n",
       "</g>\n",
       "</svg>\n"
      ],
      "text/plain": [
       "<graphviz.files.Source at 0x10b1f9d68>"
      ]
     },
     "execution_count": 22,
     "metadata": {},
     "output_type": "execute_result"
    }
   ],
   "source": [
    "clf = DecisionTreeClassifier(max_depth=2)\n",
    "clf.fit(X_train,y_train)\n",
    "train_pred=clf.predict(X_train)\n",
    "test_pred=clf.predict(X_test)\n",
    "print(\"Train accuracy = %f\" % accuracy_score(y_train,train_pred))\n",
    "print(\"Test accuracy = %f\" % accuracy_score(y_test,test_pred))\n",
    "dot_data=export_graphviz(clf,out_file=None,feature_names=features,class_names=classes,filled=True, rounded=True)\n",
    "graph = graphviz.Source(dot_data) \n",
    "graph"
   ]
  },
  {
   "cell_type": "markdown",
   "metadata": {},
   "source": [
    "### max_depth=3"
   ]
  },
  {
   "cell_type": "code",
   "execution_count": 23,
   "metadata": {
    "collapsed": false
   },
   "outputs": [
    {
     "name": "stdout",
     "output_type": "stream",
     "text": [
      "Train accuracy = 0.772436\n",
      "Test accuracy = 0.698718\n"
     ]
    },
    {
     "data": {
      "image/svg+xml": [
       "<?xml version=\"1.0\" encoding=\"UTF-8\" standalone=\"no\"?>\n",
       "<!DOCTYPE svg PUBLIC \"-//W3C//DTD SVG 1.1//EN\"\n",
       " \"http://www.w3.org/Graphics/SVG/1.1/DTD/svg11.dtd\">\n",
       "<!-- Generated by graphviz version 2.38.0 (20140413.2041)\n",
       " -->\n",
       "<!-- Title: Tree Pages: 1 -->\n",
       "<svg width=\"1008pt\" height=\"414pt\"\n",
       " viewBox=\"0.00 0.00 1008.01 414.00\" xmlns=\"http://www.w3.org/2000/svg\" xmlns:xlink=\"http://www.w3.org/1999/xlink\">\n",
       "<g id=\"graph0\" class=\"graph\" transform=\"scale(1 1) rotate(0) translate(4 410)\">\n",
       "<title>Tree</title>\n",
       "<polygon fill=\"white\" stroke=\"none\" points=\"-4,4 -4,-410 1004.01,-410 1004.01,4 -4,4\"/>\n",
       "<!-- 0 -->\n",
       "<g id=\"node1\" class=\"node\"><title>0</title>\n",
       "<path fill=\"#e58139\" fill-opacity=\"0.584314\" stroke=\"black\" d=\"M546.391,-406C546.391,-406 441.709,-406 441.709,-406 435.709,-406 429.709,-400 429.709,-394 429.709,-394 429.709,-340 429.709,-340 429.709,-334 435.709,-328 441.709,-328 441.709,-328 546.391,-328 546.391,-328 552.391,-328 558.391,-334 558.391,-340 558.391,-340 558.391,-394 558.391,-394 558.391,-400 552.391,-406 546.391,-406\"/>\n",
       "<text text-anchor=\"middle\" x=\"494.05\" y=\"-390.8\" font-family=\"Helvetica,sans-Serif\" font-size=\"14.00\">Chckg acct &lt;= 2.5</text>\n",
       "<text text-anchor=\"middle\" x=\"494.05\" y=\"-376.8\" font-family=\"Helvetica,sans-Serif\" font-size=\"14.00\">gini = 0.4145</text>\n",
       "<text text-anchor=\"middle\" x=\"494.05\" y=\"-362.8\" font-family=\"Helvetica,sans-Serif\" font-size=\"14.00\">samples = 624</text>\n",
       "<text text-anchor=\"middle\" x=\"494.05\" y=\"-348.8\" font-family=\"Helvetica,sans-Serif\" font-size=\"14.00\">value = [441, 183]</text>\n",
       "<text text-anchor=\"middle\" x=\"494.05\" y=\"-334.8\" font-family=\"Helvetica,sans-Serif\" font-size=\"14.00\">class = Good</text>\n",
       "</g>\n",
       "<!-- 1 -->\n",
       "<g id=\"node2\" class=\"node\"><title>1</title>\n",
       "<path fill=\"#e58139\" fill-opacity=\"0.176471\" stroke=\"black\" d=\"M445.749,-292C445.749,-292 342.35,-292 342.35,-292 336.35,-292 330.35,-286 330.35,-280 330.35,-280 330.35,-226 330.35,-226 330.35,-220 336.35,-214 342.35,-214 342.35,-214 445.749,-214 445.749,-214 451.749,-214 457.749,-220 457.749,-226 457.749,-226 457.749,-280 457.749,-280 457.749,-286 451.749,-292 445.749,-292\"/>\n",
       "<text text-anchor=\"middle\" x=\"394.05\" y=\"-276.8\" font-family=\"Helvetica,sans-Serif\" font-size=\"14.00\">Credit hist &lt;= 1.5</text>\n",
       "<text text-anchor=\"middle\" x=\"394.05\" y=\"-262.8\" font-family=\"Helvetica,sans-Serif\" font-size=\"14.00\">gini = 0.4952</text>\n",
       "<text text-anchor=\"middle\" x=\"394.05\" y=\"-248.8\" font-family=\"Helvetica,sans-Serif\" font-size=\"14.00\">samples = 337</text>\n",
       "<text text-anchor=\"middle\" x=\"394.05\" y=\"-234.8\" font-family=\"Helvetica,sans-Serif\" font-size=\"14.00\">value = [185, 152]</text>\n",
       "<text text-anchor=\"middle\" x=\"394.05\" y=\"-220.8\" font-family=\"Helvetica,sans-Serif\" font-size=\"14.00\">class = Good</text>\n",
       "</g>\n",
       "<!-- 0&#45;&gt;1 -->\n",
       "<g id=\"edge1\" class=\"edge\"><title>0&#45;&gt;1</title>\n",
       "<path fill=\"none\" stroke=\"black\" d=\"M459.915,-327.769C451.87,-318.759 443.214,-309.064 434.906,-299.759\"/>\n",
       "<polygon fill=\"black\" stroke=\"black\" points=\"437.302,-297.187 428.031,-292.058 432.08,-301.849 437.302,-297.187\"/>\n",
       "<text text-anchor=\"middle\" x=\"426.618\" y=\"-312.819\" font-family=\"Helvetica,sans-Serif\" font-size=\"14.00\">True</text>\n",
       "</g>\n",
       "<!-- 8 -->\n",
       "<g id=\"node9\" class=\"node\"><title>8</title>\n",
       "<path fill=\"#e58139\" fill-opacity=\"0.878431\" stroke=\"black\" d=\"M649.574,-292C649.574,-292 540.526,-292 540.526,-292 534.526,-292 528.526,-286 528.526,-280 528.526,-280 528.526,-226 528.526,-226 528.526,-220 534.526,-214 540.526,-214 540.526,-214 649.574,-214 649.574,-214 655.574,-214 661.574,-220 661.574,-226 661.574,-226 661.574,-280 661.574,-280 661.574,-286 655.574,-292 649.574,-292\"/>\n",
       "<text text-anchor=\"middle\" x=\"595.05\" y=\"-276.8\" font-family=\"Helvetica,sans-Serif\" font-size=\"14.00\">Install plans &lt;= 2.5</text>\n",
       "<text text-anchor=\"middle\" x=\"595.05\" y=\"-262.8\" font-family=\"Helvetica,sans-Serif\" font-size=\"14.00\">gini = 0.1927</text>\n",
       "<text text-anchor=\"middle\" x=\"595.05\" y=\"-248.8\" font-family=\"Helvetica,sans-Serif\" font-size=\"14.00\">samples = 287</text>\n",
       "<text text-anchor=\"middle\" x=\"595.05\" y=\"-234.8\" font-family=\"Helvetica,sans-Serif\" font-size=\"14.00\">value = [256, 31]</text>\n",
       "<text text-anchor=\"middle\" x=\"595.05\" y=\"-220.8\" font-family=\"Helvetica,sans-Serif\" font-size=\"14.00\">class = Good</text>\n",
       "</g>\n",
       "<!-- 0&#45;&gt;8 -->\n",
       "<g id=\"edge8\" class=\"edge\"><title>0&#45;&gt;8</title>\n",
       "<path fill=\"none\" stroke=\"black\" d=\"M528.526,-327.769C536.651,-318.759 545.394,-309.064 553.785,-299.759\"/>\n",
       "<polygon fill=\"black\" stroke=\"black\" points=\"556.631,-301.829 560.729,-292.058 551.433,-297.141 556.631,-301.829\"/>\n",
       "<text text-anchor=\"middle\" x=\"562.019\" y=\"-312.825\" font-family=\"Helvetica,sans-Serif\" font-size=\"14.00\">False</text>\n",
       "</g>\n",
       "<!-- 2 -->\n",
       "<g id=\"node3\" class=\"node\"><title>2</title>\n",
       "<path fill=\"#399de5\" fill-opacity=\"0.694118\" stroke=\"black\" d=\"M211.645,-178C211.645,-178 124.455,-178 124.455,-178 118.455,-178 112.455,-172 112.455,-166 112.455,-166 112.455,-112 112.455,-112 112.455,-106 118.455,-100 124.455,-100 124.455,-100 211.645,-100 211.645,-100 217.645,-100 223.645,-106 223.645,-112 223.645,-112 223.645,-166 223.645,-166 223.645,-172 217.645,-178 211.645,-178\"/>\n",
       "<text text-anchor=\"middle\" x=\"168.05\" y=\"-162.8\" font-family=\"Helvetica,sans-Serif\" font-size=\"14.00\">Age &lt;= 22.5</text>\n",
       "<text text-anchor=\"middle\" x=\"168.05\" y=\"-148.8\" font-family=\"Helvetica,sans-Serif\" font-size=\"14.00\">gini = 0.3585</text>\n",
       "<text text-anchor=\"middle\" x=\"168.05\" y=\"-134.8\" font-family=\"Helvetica,sans-Serif\" font-size=\"14.00\">samples = 47</text>\n",
       "<text text-anchor=\"middle\" x=\"168.05\" y=\"-120.8\" font-family=\"Helvetica,sans-Serif\" font-size=\"14.00\">value = [11, 36]</text>\n",
       "<text text-anchor=\"middle\" x=\"168.05\" y=\"-106.8\" font-family=\"Helvetica,sans-Serif\" font-size=\"14.00\">class = Bad</text>\n",
       "</g>\n",
       "<!-- 1&#45;&gt;2 -->\n",
       "<g id=\"edge2\" class=\"edge\"><title>1&#45;&gt;2</title>\n",
       "<path fill=\"none\" stroke=\"black\" d=\"M330.193,-220.354C299.793,-205.288 263.498,-187.302 232.962,-172.169\"/>\n",
       "<polygon fill=\"black\" stroke=\"black\" points=\"234.198,-168.875 223.683,-167.571 231.089,-175.147 234.198,-168.875\"/>\n",
       "</g>\n",
       "<!-- 5 -->\n",
       "<g id=\"node6\" class=\"node\"><title>5</title>\n",
       "<path fill=\"#e58139\" fill-opacity=\"0.333333\" stroke=\"black\" d=\"M445.217,-178C445.217,-178 342.882,-178 342.882,-178 336.882,-178 330.882,-172 330.882,-166 330.882,-166 330.882,-112 330.882,-112 330.882,-106 336.882,-100 342.882,-100 342.882,-100 445.217,-100 445.217,-100 451.217,-100 457.217,-106 457.217,-112 457.217,-112 457.217,-166 457.217,-166 457.217,-172 451.217,-178 445.217,-178\"/>\n",
       "<text text-anchor=\"middle\" x=\"394.05\" y=\"-162.8\" font-family=\"Helvetica,sans-Serif\" font-size=\"14.00\">Duration &lt;= 22.5</text>\n",
       "<text text-anchor=\"middle\" x=\"394.05\" y=\"-148.8\" font-family=\"Helvetica,sans-Serif\" font-size=\"14.00\">gini = 0.48</text>\n",
       "<text text-anchor=\"middle\" x=\"394.05\" y=\"-134.8\" font-family=\"Helvetica,sans-Serif\" font-size=\"14.00\">samples = 290</text>\n",
       "<text text-anchor=\"middle\" x=\"394.05\" y=\"-120.8\" font-family=\"Helvetica,sans-Serif\" font-size=\"14.00\">value = [174, 116]</text>\n",
       "<text text-anchor=\"middle\" x=\"394.05\" y=\"-106.8\" font-family=\"Helvetica,sans-Serif\" font-size=\"14.00\">class = Good</text>\n",
       "</g>\n",
       "<!-- 1&#45;&gt;5 -->\n",
       "<g id=\"edge5\" class=\"edge\"><title>1&#45;&gt;5</title>\n",
       "<path fill=\"none\" stroke=\"black\" d=\"M394.05,-213.769C394.05,-205.57 394.05,-196.803 394.05,-188.28\"/>\n",
       "<polygon fill=\"black\" stroke=\"black\" points=\"397.55,-188.058 394.05,-178.058 390.55,-188.059 397.55,-188.058\"/>\n",
       "</g>\n",
       "<!-- 3 -->\n",
       "<g id=\"node4\" class=\"node\"><title>3</title>\n",
       "<path fill=\"#e58139\" stroke=\"black\" d=\"M86.1495,-64C86.1495,-64 11.9501,-64 11.9501,-64 5.95014,-64 -0.0498553,-58 -0.0498553,-52 -0.0498553,-52 -0.0498553,-12 -0.0498553,-12 -0.0498553,-6 5.95014,-0 11.9501,-0 11.9501,-0 86.1495,-0 86.1495,-0 92.1495,-0 98.1495,-6 98.1495,-12 98.1495,-12 98.1495,-52 98.1495,-52 98.1495,-58 92.1495,-64 86.1495,-64\"/>\n",
       "<text text-anchor=\"middle\" x=\"49.0498\" y=\"-48.8\" font-family=\"Helvetica,sans-Serif\" font-size=\"14.00\">gini = 0.0</text>\n",
       "<text text-anchor=\"middle\" x=\"49.0498\" y=\"-34.8\" font-family=\"Helvetica,sans-Serif\" font-size=\"14.00\">samples = 3</text>\n",
       "<text text-anchor=\"middle\" x=\"49.0498\" y=\"-20.8\" font-family=\"Helvetica,sans-Serif\" font-size=\"14.00\">value = [3, 0]</text>\n",
       "<text text-anchor=\"middle\" x=\"49.0498\" y=\"-6.8\" font-family=\"Helvetica,sans-Serif\" font-size=\"14.00\">class = Good</text>\n",
       "</g>\n",
       "<!-- 2&#45;&gt;3 -->\n",
       "<g id=\"edge3\" class=\"edge\"><title>2&#45;&gt;3</title>\n",
       "<path fill=\"none\" stroke=\"black\" d=\"M124.751,-99.7956C114.056,-90.3587 102.605,-80.2547 91.93,-70.8355\"/>\n",
       "<polygon fill=\"black\" stroke=\"black\" points=\"94.13,-68.109 84.3159,-64.1172 89.4986,-73.3579 94.13,-68.109\"/>\n",
       "</g>\n",
       "<!-- 4 -->\n",
       "<g id=\"node5\" class=\"node\"><title>4</title>\n",
       "<path fill=\"#399de5\" fill-opacity=\"0.776471\" stroke=\"black\" d=\"M208.391,-64C208.391,-64 127.708,-64 127.708,-64 121.708,-64 115.708,-58 115.708,-52 115.708,-52 115.708,-12 115.708,-12 115.708,-6 121.708,-0 127.708,-0 127.708,-0 208.391,-0 208.391,-0 214.391,-0 220.391,-6 220.391,-12 220.391,-12 220.391,-52 220.391,-52 220.391,-58 214.391,-64 208.391,-64\"/>\n",
       "<text text-anchor=\"middle\" x=\"168.05\" y=\"-48.8\" font-family=\"Helvetica,sans-Serif\" font-size=\"14.00\">gini = 0.2975</text>\n",
       "<text text-anchor=\"middle\" x=\"168.05\" y=\"-34.8\" font-family=\"Helvetica,sans-Serif\" font-size=\"14.00\">samples = 44</text>\n",
       "<text text-anchor=\"middle\" x=\"168.05\" y=\"-20.8\" font-family=\"Helvetica,sans-Serif\" font-size=\"14.00\">value = [8, 36]</text>\n",
       "<text text-anchor=\"middle\" x=\"168.05\" y=\"-6.8\" font-family=\"Helvetica,sans-Serif\" font-size=\"14.00\">class = Bad</text>\n",
       "</g>\n",
       "<!-- 2&#45;&gt;4 -->\n",
       "<g id=\"edge4\" class=\"edge\"><title>2&#45;&gt;4</title>\n",
       "<path fill=\"none\" stroke=\"black\" d=\"M168.05,-99.7956C168.05,-91.4581 168.05,-82.6 168.05,-74.1534\"/>\n",
       "<polygon fill=\"black\" stroke=\"black\" points=\"171.55,-74.1171 168.05,-64.1172 164.55,-74.1172 171.55,-74.1171\"/>\n",
       "</g>\n",
       "<!-- 6 -->\n",
       "<g id=\"node7\" class=\"node\"><title>6</title>\n",
       "<path fill=\"#e58139\" fill-opacity=\"0.572549\" stroke=\"black\" d=\"M345.963,-64C345.963,-64 250.137,-64 250.137,-64 244.137,-64 238.137,-58 238.137,-52 238.137,-52 238.137,-12 238.137,-12 238.137,-6 244.137,-0 250.137,-0 250.137,-0 345.963,-0 345.963,-0 351.963,-0 357.963,-6 357.963,-12 357.963,-12 357.963,-52 357.963,-52 357.963,-58 351.963,-64 345.963,-64\"/>\n",
       "<text text-anchor=\"middle\" x=\"298.05\" y=\"-48.8\" font-family=\"Helvetica,sans-Serif\" font-size=\"14.00\">gini = 0.4195</text>\n",
       "<text text-anchor=\"middle\" x=\"298.05\" y=\"-34.8\" font-family=\"Helvetica,sans-Serif\" font-size=\"14.00\">samples = 177</text>\n",
       "<text text-anchor=\"middle\" x=\"298.05\" y=\"-20.8\" font-family=\"Helvetica,sans-Serif\" font-size=\"14.00\">value = [124, 53]</text>\n",
       "<text text-anchor=\"middle\" x=\"298.05\" y=\"-6.8\" font-family=\"Helvetica,sans-Serif\" font-size=\"14.00\">class = Good</text>\n",
       "</g>\n",
       "<!-- 5&#45;&gt;6 -->\n",
       "<g id=\"edge6\" class=\"edge\"><title>5&#45;&gt;6</title>\n",
       "<path fill=\"none\" stroke=\"black\" d=\"M359.12,-99.7956C350.743,-90.6335 341.792,-80.8428 333.396,-71.6603\"/>\n",
       "<polygon fill=\"black\" stroke=\"black\" points=\"335.831,-69.1358 326.5,-64.1172 330.664,-73.8592 335.831,-69.1358\"/>\n",
       "</g>\n",
       "<!-- 7 -->\n",
       "<g id=\"node8\" class=\"node\"><title>7</title>\n",
       "<path fill=\"#399de5\" fill-opacity=\"0.207843\" stroke=\"black\" d=\"M476.177,-64C476.177,-64 387.923,-64 387.923,-64 381.923,-64 375.923,-58 375.923,-52 375.923,-52 375.923,-12 375.923,-12 375.923,-6 381.923,-0 387.923,-0 387.923,-0 476.177,-0 476.177,-0 482.177,-0 488.177,-6 488.177,-12 488.177,-12 488.177,-52 488.177,-52 488.177,-58 482.177,-64 476.177,-64\"/>\n",
       "<text text-anchor=\"middle\" x=\"432.05\" y=\"-48.8\" font-family=\"Helvetica,sans-Serif\" font-size=\"14.00\">gini = 0.4934</text>\n",
       "<text text-anchor=\"middle\" x=\"432.05\" y=\"-34.8\" font-family=\"Helvetica,sans-Serif\" font-size=\"14.00\">samples = 113</text>\n",
       "<text text-anchor=\"middle\" x=\"432.05\" y=\"-20.8\" font-family=\"Helvetica,sans-Serif\" font-size=\"14.00\">value = [50, 63]</text>\n",
       "<text text-anchor=\"middle\" x=\"432.05\" y=\"-6.8\" font-family=\"Helvetica,sans-Serif\" font-size=\"14.00\">class = Bad</text>\n",
       "</g>\n",
       "<!-- 5&#45;&gt;7 -->\n",
       "<g id=\"edge7\" class=\"edge\"><title>5&#45;&gt;7</title>\n",
       "<path fill=\"none\" stroke=\"black\" d=\"M407.876,-99.7956C410.96,-91.2749 414.24,-82.2104 417.358,-73.5971\"/>\n",
       "<polygon fill=\"black\" stroke=\"black\" points=\"420.676,-74.7114 420.788,-64.1172 414.094,-72.3292 420.676,-74.7114\"/>\n",
       "</g>\n",
       "<!-- 9 -->\n",
       "<g id=\"node10\" class=\"node\"><title>9</title>\n",
       "<path fill=\"#e58139\" fill-opacity=\"0.576471\" stroke=\"black\" d=\"M643.346,-178C643.346,-178 546.754,-178 546.754,-178 540.754,-178 534.754,-172 534.754,-166 534.754,-166 534.754,-112 534.754,-112 534.754,-106 540.754,-100 546.754,-100 546.754,-100 643.346,-100 643.346,-100 649.346,-100 655.346,-106 655.346,-112 655.346,-112 655.346,-166 655.346,-166 655.346,-172 649.346,-178 643.346,-178\"/>\n",
       "<text text-anchor=\"middle\" x=\"595.05\" y=\"-162.8\" font-family=\"Helvetica,sans-Serif\" font-size=\"14.00\">Duration &lt;= 16.5</text>\n",
       "<text text-anchor=\"middle\" x=\"595.05\" y=\"-148.8\" font-family=\"Helvetica,sans-Serif\" font-size=\"14.00\">gini = 0.4183</text>\n",
       "<text text-anchor=\"middle\" x=\"595.05\" y=\"-134.8\" font-family=\"Helvetica,sans-Serif\" font-size=\"14.00\">samples = 47</text>\n",
       "<text text-anchor=\"middle\" x=\"595.05\" y=\"-120.8\" font-family=\"Helvetica,sans-Serif\" font-size=\"14.00\">value = [33, 14]</text>\n",
       "<text text-anchor=\"middle\" x=\"595.05\" y=\"-106.8\" font-family=\"Helvetica,sans-Serif\" font-size=\"14.00\">class = Good</text>\n",
       "</g>\n",
       "<!-- 8&#45;&gt;9 -->\n",
       "<g id=\"edge9\" class=\"edge\"><title>8&#45;&gt;9</title>\n",
       "<path fill=\"none\" stroke=\"black\" d=\"M595.05,-213.769C595.05,-205.57 595.05,-196.803 595.05,-188.28\"/>\n",
       "<polygon fill=\"black\" stroke=\"black\" points=\"598.55,-188.058 595.05,-178.058 591.55,-188.059 598.55,-188.058\"/>\n",
       "</g>\n",
       "<!-- 12 -->\n",
       "<g id=\"node13\" class=\"node\"><title>12</title>\n",
       "<path fill=\"#e58139\" fill-opacity=\"0.925490\" stroke=\"black\" d=\"M862.391,-178C862.391,-178 757.709,-178 757.709,-178 751.709,-178 745.709,-172 745.709,-166 745.709,-166 745.709,-112 745.709,-112 745.709,-106 751.709,-100 757.709,-100 757.709,-100 862.391,-100 862.391,-100 868.391,-100 874.391,-106 874.391,-112 874.391,-112 874.391,-166 874.391,-166 874.391,-172 868.391,-178 862.391,-178\"/>\n",
       "<text text-anchor=\"middle\" x=\"810.05\" y=\"-162.8\" font-family=\"Helvetica,sans-Serif\" font-size=\"14.00\">Chckg acct &lt;= 3.5</text>\n",
       "<text text-anchor=\"middle\" x=\"810.05\" y=\"-148.8\" font-family=\"Helvetica,sans-Serif\" font-size=\"14.00\">gini = 0.1316</text>\n",
       "<text text-anchor=\"middle\" x=\"810.05\" y=\"-134.8\" font-family=\"Helvetica,sans-Serif\" font-size=\"14.00\">samples = 240</text>\n",
       "<text text-anchor=\"middle\" x=\"810.05\" y=\"-120.8\" font-family=\"Helvetica,sans-Serif\" font-size=\"14.00\">value = [223, 17]</text>\n",
       "<text text-anchor=\"middle\" x=\"810.05\" y=\"-106.8\" font-family=\"Helvetica,sans-Serif\" font-size=\"14.00\">class = Good</text>\n",
       "</g>\n",
       "<!-- 8&#45;&gt;12 -->\n",
       "<g id=\"edge12\" class=\"edge\"><title>8&#45;&gt;12</title>\n",
       "<path fill=\"none\" stroke=\"black\" d=\"M661.605,-217.33C685.335,-204.968 712.195,-190.976 736.481,-178.324\"/>\n",
       "<polygon fill=\"black\" stroke=\"black\" points=\"738.398,-181.272 745.65,-173.548 735.164,-175.064 738.398,-181.272\"/>\n",
       "</g>\n",
       "<!-- 10 -->\n",
       "<g id=\"node11\" class=\"node\"><title>10</title>\n",
       "<path fill=\"#e58139\" fill-opacity=\"0.945098\" stroke=\"black\" d=\"M598.391,-64C598.391,-64 517.708,-64 517.708,-64 511.708,-64 505.708,-58 505.708,-52 505.708,-52 505.708,-12 505.708,-12 505.708,-6 511.708,-0 517.708,-0 517.708,-0 598.391,-0 598.391,-0 604.391,-0 610.391,-6 610.391,-12 610.391,-12 610.391,-52 610.391,-52 610.391,-58 604.391,-64 598.391,-64\"/>\n",
       "<text text-anchor=\"middle\" x=\"558.05\" y=\"-48.8\" font-family=\"Helvetica,sans-Serif\" font-size=\"14.00\">gini = 0.0997</text>\n",
       "<text text-anchor=\"middle\" x=\"558.05\" y=\"-34.8\" font-family=\"Helvetica,sans-Serif\" font-size=\"14.00\">samples = 19</text>\n",
       "<text text-anchor=\"middle\" x=\"558.05\" y=\"-20.8\" font-family=\"Helvetica,sans-Serif\" font-size=\"14.00\">value = [18, 1]</text>\n",
       "<text text-anchor=\"middle\" x=\"558.05\" y=\"-6.8\" font-family=\"Helvetica,sans-Serif\" font-size=\"14.00\">class = Good</text>\n",
       "</g>\n",
       "<!-- 9&#45;&gt;10 -->\n",
       "<g id=\"edge10\" class=\"edge\"><title>9&#45;&gt;10</title>\n",
       "<path fill=\"none\" stroke=\"black\" d=\"M581.587,-99.7956C578.585,-91.2749 575.391,-82.2104 572.355,-73.5971\"/>\n",
       "<polygon fill=\"black\" stroke=\"black\" points=\"575.64,-72.3855 569.015,-64.1172 569.037,-74.712 575.64,-72.3855\"/>\n",
       "</g>\n",
       "<!-- 11 -->\n",
       "<g id=\"node12\" class=\"node\"><title>11</title>\n",
       "<path fill=\"#e58139\" fill-opacity=\"0.133333\" stroke=\"black\" d=\"M728.177,-64C728.177,-64 639.923,-64 639.923,-64 633.923,-64 627.923,-58 627.923,-52 627.923,-52 627.923,-12 627.923,-12 627.923,-6 633.923,-0 639.923,-0 639.923,-0 728.177,-0 728.177,-0 734.177,-0 740.177,-6 740.177,-12 740.177,-12 740.177,-52 740.177,-52 740.177,-58 734.177,-64 728.177,-64\"/>\n",
       "<text text-anchor=\"middle\" x=\"684.05\" y=\"-48.8\" font-family=\"Helvetica,sans-Serif\" font-size=\"14.00\">gini = 0.4974</text>\n",
       "<text text-anchor=\"middle\" x=\"684.05\" y=\"-34.8\" font-family=\"Helvetica,sans-Serif\" font-size=\"14.00\">samples = 28</text>\n",
       "<text text-anchor=\"middle\" x=\"684.05\" y=\"-20.8\" font-family=\"Helvetica,sans-Serif\" font-size=\"14.00\">value = [15, 13]</text>\n",
       "<text text-anchor=\"middle\" x=\"684.05\" y=\"-6.8\" font-family=\"Helvetica,sans-Serif\" font-size=\"14.00\">class = Good</text>\n",
       "</g>\n",
       "<!-- 9&#45;&gt;11 -->\n",
       "<g id=\"edge11\" class=\"edge\"><title>9&#45;&gt;11</title>\n",
       "<path fill=\"none\" stroke=\"black\" d=\"M627.433,-99.7956C635.121,-90.7252 643.331,-81.0385 651.047,-71.9359\"/>\n",
       "<polygon fill=\"black\" stroke=\"black\" points=\"653.878,-74.0086 657.674,-64.1172 648.538,-69.4825 653.878,-74.0086\"/>\n",
       "</g>\n",
       "<!-- 13 -->\n",
       "<g id=\"node14\" class=\"node\"><title>13</title>\n",
       "<path fill=\"#e58139\" fill-opacity=\"0.729412\" stroke=\"black\" d=\"M850.391,-64C850.391,-64 769.708,-64 769.708,-64 763.708,-64 757.708,-58 757.708,-52 757.708,-52 757.708,-12 757.708,-12 757.708,-6 763.708,-0 769.708,-0 769.708,-0 850.391,-0 850.391,-0 856.391,-0 862.391,-6 862.391,-12 862.391,-12 862.391,-52 862.391,-52 862.391,-58 856.391,-64 850.391,-64\"/>\n",
       "<text text-anchor=\"middle\" x=\"810.05\" y=\"-48.8\" font-family=\"Helvetica,sans-Serif\" font-size=\"14.00\">gini = 0.3343</text>\n",
       "<text text-anchor=\"middle\" x=\"810.05\" y=\"-34.8\" font-family=\"Helvetica,sans-Serif\" font-size=\"14.00\">samples = 33</text>\n",
       "<text text-anchor=\"middle\" x=\"810.05\" y=\"-20.8\" font-family=\"Helvetica,sans-Serif\" font-size=\"14.00\">value = [26, 7]</text>\n",
       "<text text-anchor=\"middle\" x=\"810.05\" y=\"-6.8\" font-family=\"Helvetica,sans-Serif\" font-size=\"14.00\">class = Good</text>\n",
       "</g>\n",
       "<!-- 12&#45;&gt;13 -->\n",
       "<g id=\"edge13\" class=\"edge\"><title>12&#45;&gt;13</title>\n",
       "<path fill=\"none\" stroke=\"black\" d=\"M810.05,-99.7956C810.05,-91.4581 810.05,-82.6 810.05,-74.1534\"/>\n",
       "<polygon fill=\"black\" stroke=\"black\" points=\"813.55,-74.1171 810.05,-64.1172 806.55,-74.1172 813.55,-74.1171\"/>\n",
       "</g>\n",
       "<!-- 14 -->\n",
       "<g id=\"node15\" class=\"node\"><title>14</title>\n",
       "<path fill=\"#e58139\" fill-opacity=\"0.949020\" stroke=\"black\" d=\"M987.963,-64C987.963,-64 892.137,-64 892.137,-64 886.137,-64 880.137,-58 880.137,-52 880.137,-52 880.137,-12 880.137,-12 880.137,-6 886.137,-0 892.137,-0 892.137,-0 987.963,-0 987.963,-0 993.963,-0 999.963,-6 999.963,-12 999.963,-12 999.963,-52 999.963,-52 999.963,-58 993.963,-64 987.963,-64\"/>\n",
       "<text text-anchor=\"middle\" x=\"940.05\" y=\"-48.8\" font-family=\"Helvetica,sans-Serif\" font-size=\"14.00\">gini = 0.092</text>\n",
       "<text text-anchor=\"middle\" x=\"940.05\" y=\"-34.8\" font-family=\"Helvetica,sans-Serif\" font-size=\"14.00\">samples = 207</text>\n",
       "<text text-anchor=\"middle\" x=\"940.05\" y=\"-20.8\" font-family=\"Helvetica,sans-Serif\" font-size=\"14.00\">value = [197, 10]</text>\n",
       "<text text-anchor=\"middle\" x=\"940.05\" y=\"-6.8\" font-family=\"Helvetica,sans-Serif\" font-size=\"14.00\">class = Good</text>\n",
       "</g>\n",
       "<!-- 12&#45;&gt;14 -->\n",
       "<g id=\"edge14\" class=\"edge\"><title>12&#45;&gt;14</title>\n",
       "<path fill=\"none\" stroke=\"black\" d=\"M857.351,-99.7956C869.148,-90.2671 881.787,-80.0585 893.545,-70.5614\"/>\n",
       "<polygon fill=\"black\" stroke=\"black\" points=\"895.944,-73.1234 901.524,-64.1172 891.545,-67.6778 895.944,-73.1234\"/>\n",
       "</g>\n",
       "</g>\n",
       "</svg>\n"
      ],
      "text/plain": [
       "<graphviz.files.Source at 0x10b699518>"
      ]
     },
     "execution_count": 23,
     "metadata": {},
     "output_type": "execute_result"
    }
   ],
   "source": [
    "clf = DecisionTreeClassifier(max_depth=3)\n",
    "clf.fit(X_train,y_train)\n",
    "train_pred=clf.predict(X_train)\n",
    "test_pred=clf.predict(X_test)\n",
    "print(\"Train accuracy = %f\" % accuracy_score(y_train,train_pred))\n",
    "print(\"Test accuracy = %f\" % accuracy_score(y_test,test_pred))\n",
    "dot_data=export_graphviz(clf,out_file=None,feature_names=features,class_names=classes,filled=True, rounded=True)\n",
    "graph = graphviz.Source(dot_data) \n",
    "graph"
   ]
  },
  {
   "cell_type": "markdown",
   "metadata": {},
   "source": [
    "### max_depth=4"
   ]
  },
  {
   "cell_type": "code",
   "execution_count": 25,
   "metadata": {
    "collapsed": false
   },
   "outputs": [
    {
     "name": "stdout",
     "output_type": "stream",
     "text": [
      "Train accuracy = 0.791667\n",
      "Test accuracy = 0.676282\n"
     ]
    }
   ],
   "source": [
    "clf = DecisionTreeClassifier(max_depth=4)\n",
    "clf.fit(X_train,y_train)\n",
    "train_pred=clf.predict(X_train)\n",
    "test_pred=clf.predict(X_test)\n",
    "print(\"Train accuracy = %f\" % accuracy_score(y_train,train_pred))\n",
    "print(\"Test accuracy = %f\" % accuracy_score(y_test,test_pred))"
   ]
  },
  {
   "cell_type": "markdown",
   "metadata": {},
   "source": [
    "### max_depth=5"
   ]
  },
  {
   "cell_type": "code",
   "execution_count": 26,
   "metadata": {
    "collapsed": false
   },
   "outputs": [
    {
     "name": "stdout",
     "output_type": "stream",
     "text": [
      "Train accuracy = 0.822115\n",
      "Test accuracy = 0.673077\n"
     ]
    }
   ],
   "source": [
    "clf = DecisionTreeClassifier(max_depth=5)\n",
    "clf.fit(X_train,y_train)\n",
    "train_pred=clf.predict(X_train)\n",
    "test_pred=clf.predict(X_test)\n",
    "print(\"Train accuracy = %f\" % accuracy_score(y_train,train_pred))\n",
    "print(\"Test accuracy = %f\" % accuracy_score(y_test,test_pred))"
   ]
  },
  {
   "cell_type": "markdown",
   "metadata": {},
   "source": [
    "### max_depth=6"
   ]
  },
  {
   "cell_type": "code",
   "execution_count": 27,
   "metadata": {
    "collapsed": false
   },
   "outputs": [
    {
     "name": "stdout",
     "output_type": "stream",
     "text": [
      "Train accuracy = 0.855769\n",
      "Test accuracy = 0.705128\n"
     ]
    }
   ],
   "source": [
    "clf = DecisionTreeClassifier(max_depth=6)\n",
    "clf.fit(X_train,y_train)\n",
    "train_pred=clf.predict(X_train)\n",
    "test_pred=clf.predict(X_test)\n",
    "print(\"Train accuracy = %f\" % accuracy_score(y_train,train_pred))\n",
    "print(\"Test accuracy = %f\" % accuracy_score(y_test,test_pred))"
   ]
  },
  {
   "cell_type": "markdown",
   "metadata": {},
   "source": [
    "### max_depth=7"
   ]
  },
  {
   "cell_type": "code",
   "execution_count": 28,
   "metadata": {
    "collapsed": false
   },
   "outputs": [
    {
     "name": "stdout",
     "output_type": "stream",
     "text": [
      "Train accuracy = 0.894231\n",
      "Test accuracy = 0.695513\n"
     ]
    }
   ],
   "source": [
    "clf = DecisionTreeClassifier(max_depth=7)\n",
    "clf.fit(X_train,y_train)\n",
    "train_pred=clf.predict(X_train)\n",
    "test_pred=clf.predict(X_test)\n",
    "print(\"Train accuracy = %f\" % accuracy_score(y_train,train_pred))\n",
    "print(\"Test accuracy = %f\" % accuracy_score(y_test,test_pred))"
   ]
  },
  {
   "cell_type": "markdown",
   "metadata": {},
   "source": [
    "### max_depth=8"
   ]
  },
  {
   "cell_type": "code",
   "execution_count": 29,
   "metadata": {
    "collapsed": false
   },
   "outputs": [
    {
     "name": "stdout",
     "output_type": "stream",
     "text": [
      "Train accuracy = 0.931090\n",
      "Test accuracy = 0.685897\n"
     ]
    }
   ],
   "source": [
    "clf = DecisionTreeClassifier(max_depth=8)\n",
    "clf.fit(X_train,y_train)\n",
    "train_pred=clf.predict(X_train)\n",
    "test_pred=clf.predict(X_test)\n",
    "print(\"Train accuracy = %f\" % accuracy_score(y_train,train_pred))\n",
    "print(\"Test accuracy = %f\" % accuracy_score(y_test,test_pred))"
   ]
  },
  {
   "cell_type": "markdown",
   "metadata": {},
   "source": [
    "### max_depth=9"
   ]
  },
  {
   "cell_type": "code",
   "execution_count": 30,
   "metadata": {
    "collapsed": false
   },
   "outputs": [
    {
     "name": "stdout",
     "output_type": "stream",
     "text": [
      "Train accuracy = 0.964744\n",
      "Test accuracy = 0.685897\n"
     ]
    }
   ],
   "source": [
    "clf = DecisionTreeClassifier(max_depth=9)\n",
    "clf.fit(X_train,y_train)\n",
    "train_pred=clf.predict(X_train)\n",
    "test_pred=clf.predict(X_test)\n",
    "print(\"Train accuracy = %f\" % accuracy_score(y_train,train_pred))\n",
    "print(\"Test accuracy = %f\" % accuracy_score(y_test,test_pred))"
   ]
  },
  {
   "cell_type": "markdown",
   "metadata": {},
   "source": [
    "### max_depth=10"
   ]
  },
  {
   "cell_type": "code",
   "execution_count": 31,
   "metadata": {
    "collapsed": false
   },
   "outputs": [
    {
     "name": "stdout",
     "output_type": "stream",
     "text": [
      "Train accuracy = 0.975962\n",
      "Test accuracy = 0.685897\n"
     ]
    }
   ],
   "source": [
    "clf = DecisionTreeClassifier(max_depth=10)\n",
    "clf.fit(X_train,y_train)\n",
    "train_pred=clf.predict(X_train)\n",
    "test_pred=clf.predict(X_test)\n",
    "print(\"Train accuracy = %f\" % accuracy_score(y_train,train_pred))\n",
    "print(\"Test accuracy = %f\" % accuracy_score(y_test,test_pred))"
   ]
  },
  {
   "cell_type": "markdown",
   "metadata": {},
   "source": [
    "## Discussion"
   ]
  },
  {
   "cell_type": "code",
   "execution_count": 45,
   "metadata": {
    "collapsed": false
   },
   "outputs": [
    {
     "data": {
      "image/png": "[encoded data removed]",
      "text/plain": [
       "<matplotlib.figure.Figure at 0x10fb03860>"
      ]
     },
     "metadata": {},
     "output_type": "display_data"
    }
   ],
   "source": [
    "%matplotlib inline\n",
    "#plot the change of accuracy wrt max_depth\n",
    "import matplotlib.pyplot as plt\n",
    "maxdepth=range(1,11)\n",
    "train_acc=[]\n",
    "test_acc=[]\n",
    "\n",
    "for i in range(1,11):\n",
    "    clf = DecisionTreeClassifier(max_depth=i)\n",
    "    clf.fit(X_train,y_train)\n",
    "    train_pred=clf.predict(X_train)\n",
    "    test_pred=clf.predict(X_test)\n",
    "    train_acc.append(accuracy_score(y_train,train_pred))\n",
    "    test_acc.append(accuracy_score(y_test,test_pred))\n",
    "\n",
    "plt.plot(maxdepth,train_acc)\n",
    "plt.plot(maxdepth,test_acc)\n",
    "plt.xlabel(\"max_depth of decision tree classifier\")\n",
    "plt.ylabel(\"Accuracy\")\n",
    "plt.legend([\"Train acc\",\"Test acc\"],loc='upper left')\n",
    "plt.show()"
   ]
  },
  {
   "cell_type": "markdown",
   "metadata": {},
   "source": [
    "**Observations**: \n",
    "1. The tree becomes taller/deeper when we increase max_depth. The tree with max_depth=3 is grown based on the tree with max_depth=2, which is grown based on that with max_depth=1.\n",
    "2. The trees make sense to me.\n",
    "3. According to the figure above, we find that the training accuracy keeps increasing when we allow taller/deeper trees. However, the test accuracy is not monetone increasing. It increases until max_depth=3 and reaches a local maximum. It reaches the global maximum when max_depth=6. Decision trees with depth>9 does not work well on the test set, probably because their structures are very complex and they tend to overfit the training set.\n",
    "\n",
    "**Conclusions**: \n",
    "1. For this task, setting max_depth=6 achieves the best test accuracy.\n",
    "2. It's important to keep the model both accurate and simple. Only chasing for perfect accuracy on the training set would usually cause overfitting."
   ]
  },
  {
   "cell_type": "code",
   "execution_count": null,
   "metadata": {
    "collapsed": true
   },
   "outputs": [],
   "source": []
  }
 ],
 "metadata": {
  "anaconda-cloud": {},
  "kernelspec": {
   "display_name": "Python [Root]",
   "language": "python",
   "name": "Python [Root]"
  },
  "language_info": {
   "codemirror_mode": {
    "name": "ipython",
    "version": 3
   },
   "file_extension": ".py",
   "mimetype": "text/x-python",
   "name": "python",
   "nbconvert_exporter": "python",
   "pygments_lexer": "ipython3",
   "version": "3.5.2"
  }
 },
 "nbformat": 4,
 "nbformat_minor": 0
}
